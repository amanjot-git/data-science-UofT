{
 "cells": [
  {
   "cell_type": "markdown",
   "id": "2a65c50f",
   "metadata": {},
   "source": [
    "# Chocolate Bar Ratings\n",
    "\n",
    "Imagine you are a data scientist working on a project to analyze chocolate bar ratings. You've sourced a comprehensive dataset from Kaggle that includes expert ratings for over 1,700 different chocolate bars. This dataset provides a wealth of information, including the regional origin of the chocolate, the percentage of cocoa content, the variety of chocolate bean used, and the geographical location where the beans were grown.\n",
    "\n",
    "The dataset is available on Kaggle at the following link: [Chocolate Bar Ratings Dataset](https://www.kaggle.com/datasets/rtatman/chocolate-bar-ratings). For more detailed information about the data, you can visit the \"Overview\" page on Kaggle or explore the [Flavors of Cacao](http://flavorsofcacao.com/index.html) website. The Flavors of Cacao website provides insights into the rating system used in this dataset, an overview of the factors that contribute to the flavor of chocolate, and other interesting information about chocolate.\n",
    "\n",
    "The dataset includes the following attributes:"
   ]
  },
  {
   "cell_type": "markdown",
   "id": "639b9f31",
   "metadata": {},
   "source": [
    "| ***Attribute*** | ***Description*** |\n",
    "| ---: | :--- |\n",
    "| **Company (Maker-if known)** | Name of the company manufacturing the bar |\n",
    "| **Specific Bean Origin or Bar Name** | The specific geo-region of origin for the bar |\n",
    "| **REF** | Reference number, a value linked to when the review was entered in the database. Higher = more recent. |\n",
    "| **Review Date** | Date of publication of the review |\n",
    "| **Cocoa Percent** | Cocoa percentage (darkness) of the chocolate bar being reviewed |\n",
    "| **Company Location** | Manufacturer base country |\n",
    "| **Rating** | Expert rating for the bar |\n",
    "| **Bean Type** | The variety of bean used, if provided |\n",
    "| **Broad Bean Origin** | The broad geo-region of origin for the bean |\n",
    "|||"
   ]
  },
  {
   "cell_type": "markdown",
   "id": "87850e76",
   "metadata": {},
   "source": [
    "Aim: To uncover patterns and trends in chocolate ratings, identify the key factors that contribute to higher ratings, and perhaps even discover new insights into what makes certain chocolates more appealing to experts."
   ]
  },
  {
   "cell_type": "markdown",
   "id": "66fc1353",
   "metadata": {},
   "source": [
    "Steps followed:\n",
    "    \n",
    "    1. Loaded data into dataframe\n",
    "    2. Data Inspecting and Cleaning\n",
    "    3. Feature Engineering \n",
    "    4. EDA"
   ]
  },
  {
   "cell_type": "code",
   "execution_count": 1,
   "id": "d2fec4cd",
   "metadata": {},
   "outputs": [
    {
     "data": {
      "text/html": [
       "<div>\n",
       "<style scoped>\n",
       "    .dataframe tbody tr th:only-of-type {\n",
       "        vertical-align: middle;\n",
       "    }\n",
       "\n",
       "    .dataframe tbody tr th {\n",
       "        vertical-align: top;\n",
       "    }\n",
       "\n",
       "    .dataframe thead th {\n",
       "        text-align: right;\n",
       "    }\n",
       "</style>\n",
       "<table border=\"1\" class=\"dataframe\">\n",
       "  <thead>\n",
       "    <tr style=\"text-align: right;\">\n",
       "      <th></th>\n",
       "      <th>Company \\n(Maker-if known)</th>\n",
       "      <th>Specific Bean Origin\\nor Bar Name</th>\n",
       "      <th>REF</th>\n",
       "      <th>Review\\nDate</th>\n",
       "      <th>Cocoa\\nPercent</th>\n",
       "      <th>Company\\nLocation</th>\n",
       "      <th>Rating</th>\n",
       "      <th>Bean\\nType</th>\n",
       "      <th>Broad Bean\\nOrigin</th>\n",
       "    </tr>\n",
       "  </thead>\n",
       "  <tbody>\n",
       "    <tr>\n",
       "      <th>0</th>\n",
       "      <td>A. Morin</td>\n",
       "      <td>Agua Grande</td>\n",
       "      <td>1876</td>\n",
       "      <td>2016</td>\n",
       "      <td>63%</td>\n",
       "      <td>France</td>\n",
       "      <td>3.75</td>\n",
       "      <td></td>\n",
       "      <td>Sao Tome</td>\n",
       "    </tr>\n",
       "    <tr>\n",
       "      <th>1</th>\n",
       "      <td>A. Morin</td>\n",
       "      <td>Kpime</td>\n",
       "      <td>1676</td>\n",
       "      <td>2015</td>\n",
       "      <td>70%</td>\n",
       "      <td>France</td>\n",
       "      <td>2.75</td>\n",
       "      <td></td>\n",
       "      <td>Togo</td>\n",
       "    </tr>\n",
       "    <tr>\n",
       "      <th>2</th>\n",
       "      <td>A. Morin</td>\n",
       "      <td>Atsane</td>\n",
       "      <td>1676</td>\n",
       "      <td>2015</td>\n",
       "      <td>70%</td>\n",
       "      <td>France</td>\n",
       "      <td>3.00</td>\n",
       "      <td></td>\n",
       "      <td>Togo</td>\n",
       "    </tr>\n",
       "    <tr>\n",
       "      <th>3</th>\n",
       "      <td>A. Morin</td>\n",
       "      <td>Akata</td>\n",
       "      <td>1680</td>\n",
       "      <td>2015</td>\n",
       "      <td>70%</td>\n",
       "      <td>France</td>\n",
       "      <td>3.50</td>\n",
       "      <td></td>\n",
       "      <td>Togo</td>\n",
       "    </tr>\n",
       "    <tr>\n",
       "      <th>4</th>\n",
       "      <td>A. Morin</td>\n",
       "      <td>Quilla</td>\n",
       "      <td>1704</td>\n",
       "      <td>2015</td>\n",
       "      <td>70%</td>\n",
       "      <td>France</td>\n",
       "      <td>3.50</td>\n",
       "      <td></td>\n",
       "      <td>Peru</td>\n",
       "    </tr>\n",
       "    <tr>\n",
       "      <th>...</th>\n",
       "      <td>...</td>\n",
       "      <td>...</td>\n",
       "      <td>...</td>\n",
       "      <td>...</td>\n",
       "      <td>...</td>\n",
       "      <td>...</td>\n",
       "      <td>...</td>\n",
       "      <td>...</td>\n",
       "      <td>...</td>\n",
       "    </tr>\n",
       "    <tr>\n",
       "      <th>1790</th>\n",
       "      <td>Zotter</td>\n",
       "      <td>Peru</td>\n",
       "      <td>647</td>\n",
       "      <td>2011</td>\n",
       "      <td>70%</td>\n",
       "      <td>Austria</td>\n",
       "      <td>3.75</td>\n",
       "      <td></td>\n",
       "      <td>Peru</td>\n",
       "    </tr>\n",
       "    <tr>\n",
       "      <th>1791</th>\n",
       "      <td>Zotter</td>\n",
       "      <td>Congo</td>\n",
       "      <td>749</td>\n",
       "      <td>2011</td>\n",
       "      <td>65%</td>\n",
       "      <td>Austria</td>\n",
       "      <td>3.00</td>\n",
       "      <td>Forastero</td>\n",
       "      <td>Congo</td>\n",
       "    </tr>\n",
       "    <tr>\n",
       "      <th>1792</th>\n",
       "      <td>Zotter</td>\n",
       "      <td>Kerala State</td>\n",
       "      <td>749</td>\n",
       "      <td>2011</td>\n",
       "      <td>65%</td>\n",
       "      <td>Austria</td>\n",
       "      <td>3.50</td>\n",
       "      <td>Forastero</td>\n",
       "      <td>India</td>\n",
       "    </tr>\n",
       "    <tr>\n",
       "      <th>1793</th>\n",
       "      <td>Zotter</td>\n",
       "      <td>Kerala State</td>\n",
       "      <td>781</td>\n",
       "      <td>2011</td>\n",
       "      <td>62%</td>\n",
       "      <td>Austria</td>\n",
       "      <td>3.25</td>\n",
       "      <td></td>\n",
       "      <td>India</td>\n",
       "    </tr>\n",
       "    <tr>\n",
       "      <th>1794</th>\n",
       "      <td>Zotter</td>\n",
       "      <td>Brazil, Mitzi Blue</td>\n",
       "      <td>486</td>\n",
       "      <td>2010</td>\n",
       "      <td>65%</td>\n",
       "      <td>Austria</td>\n",
       "      <td>3.00</td>\n",
       "      <td></td>\n",
       "      <td>Brazil</td>\n",
       "    </tr>\n",
       "  </tbody>\n",
       "</table>\n",
       "<p>1795 rows × 9 columns</p>\n",
       "</div>"
      ],
      "text/plain": [
       "     Company \\n(Maker-if known) Specific Bean Origin\\nor Bar Name   REF  \\\n",
       "0                      A. Morin                       Agua Grande  1876   \n",
       "1                      A. Morin                             Kpime  1676   \n",
       "2                      A. Morin                            Atsane  1676   \n",
       "3                      A. Morin                             Akata  1680   \n",
       "4                      A. Morin                            Quilla  1704   \n",
       "...                         ...                               ...   ...   \n",
       "1790                     Zotter                              Peru   647   \n",
       "1791                     Zotter                             Congo   749   \n",
       "1792                     Zotter                      Kerala State   749   \n",
       "1793                     Zotter                      Kerala State   781   \n",
       "1794                     Zotter                Brazil, Mitzi Blue   486   \n",
       "\n",
       "      Review\\nDate Cocoa\\nPercent Company\\nLocation  Rating Bean\\nType  \\\n",
       "0             2016            63%            France    3.75              \n",
       "1             2015            70%            France    2.75              \n",
       "2             2015            70%            France    3.00              \n",
       "3             2015            70%            France    3.50              \n",
       "4             2015            70%            France    3.50              \n",
       "...            ...            ...               ...     ...        ...   \n",
       "1790          2011            70%           Austria    3.75              \n",
       "1791          2011            65%           Austria    3.00  Forastero   \n",
       "1792          2011            65%           Austria    3.50  Forastero   \n",
       "1793          2011            62%           Austria    3.25              \n",
       "1794          2010            65%           Austria    3.00              \n",
       "\n",
       "     Broad Bean\\nOrigin  \n",
       "0              Sao Tome  \n",
       "1                  Togo  \n",
       "2                  Togo  \n",
       "3                  Togo  \n",
       "4                  Peru  \n",
       "...                 ...  \n",
       "1790               Peru  \n",
       "1791              Congo  \n",
       "1792              India  \n",
       "1793              India  \n",
       "1794             Brazil  \n",
       "\n",
       "[1795 rows x 9 columns]"
      ]
     },
     "execution_count": 1,
     "metadata": {},
     "output_type": "execute_result"
    }
   ],
   "source": [
    "import numpy as np\n",
    "import pandas as pd\n",
    "choco_data = pd.read_csv(\"flavors_of_cacao.csv\")\n",
    "choco_data"
   ]
  },
  {
   "cell_type": "markdown",
   "id": "1ebab90e",
   "metadata": {},
   "source": [
    "There are 1795 records with 9 columns"
   ]
  },
  {
   "cell_type": "code",
   "execution_count": 2,
   "id": "77bd0f63",
   "metadata": {},
   "outputs": [
    {
     "data": {
      "text/plain": [
       "dtype('float64')"
      ]
     },
     "execution_count": 2,
     "metadata": {},
     "output_type": "execute_result"
    }
   ],
   "source": [
    "choco_data['Rating'].dtype # float"
   ]
  },
  {
   "cell_type": "code",
   "execution_count": 3,
   "id": "3d3fe615",
   "metadata": {},
   "outputs": [
    {
     "name": "stdout",
     "output_type": "stream",
     "text": [
      "<class 'pandas.core.frame.DataFrame'>\n",
      "RangeIndex: 1795 entries, 0 to 1794\n",
      "Data columns (total 9 columns):\n",
      " #   Column                            Non-Null Count  Dtype  \n",
      "---  ------                            --------------  -----  \n",
      " 0   Company \n",
      "(Maker-if known)         1795 non-null   object \n",
      " 1   Specific Bean Origin\n",
      "or Bar Name  1795 non-null   object \n",
      " 2   REF                               1795 non-null   int64  \n",
      " 3   Review\n",
      "Date                       1795 non-null   int64  \n",
      " 4   Cocoa\n",
      "Percent                     1795 non-null   object \n",
      " 5   Company\n",
      "Location                  1795 non-null   object \n",
      " 6   Rating                            1795 non-null   float64\n",
      " 7   Bean\n",
      "Type                         1794 non-null   object \n",
      " 8   Broad Bean\n",
      "Origin                 1794 non-null   object \n",
      "dtypes: float64(1), int64(2), object(6)\n",
      "memory usage: 126.3+ KB\n"
     ]
    }
   ],
   "source": [
    "choco_data.info()"
   ]
  },
  {
   "cell_type": "code",
   "execution_count": 4,
   "id": "183cccba",
   "metadata": {},
   "outputs": [
    {
     "data": {
      "text/html": [
       "<div>\n",
       "<style scoped>\n",
       "    .dataframe tbody tr th:only-of-type {\n",
       "        vertical-align: middle;\n",
       "    }\n",
       "\n",
       "    .dataframe tbody tr th {\n",
       "        vertical-align: top;\n",
       "    }\n",
       "\n",
       "    .dataframe thead th {\n",
       "        text-align: right;\n",
       "    }\n",
       "</style>\n",
       "<table border=\"1\" class=\"dataframe\">\n",
       "  <thead>\n",
       "    <tr style=\"text-align: right;\">\n",
       "      <th></th>\n",
       "      <th>REF</th>\n",
       "      <th>Review\\nDate</th>\n",
       "      <th>Rating</th>\n",
       "    </tr>\n",
       "  </thead>\n",
       "  <tbody>\n",
       "    <tr>\n",
       "      <th>count</th>\n",
       "      <td>1795.000000</td>\n",
       "      <td>1795.000000</td>\n",
       "      <td>1795.000000</td>\n",
       "    </tr>\n",
       "    <tr>\n",
       "      <th>mean</th>\n",
       "      <td>1035.904735</td>\n",
       "      <td>2012.325348</td>\n",
       "      <td>3.185933</td>\n",
       "    </tr>\n",
       "    <tr>\n",
       "      <th>std</th>\n",
       "      <td>552.886365</td>\n",
       "      <td>2.927210</td>\n",
       "      <td>0.478062</td>\n",
       "    </tr>\n",
       "    <tr>\n",
       "      <th>min</th>\n",
       "      <td>5.000000</td>\n",
       "      <td>2006.000000</td>\n",
       "      <td>1.000000</td>\n",
       "    </tr>\n",
       "    <tr>\n",
       "      <th>25%</th>\n",
       "      <td>576.000000</td>\n",
       "      <td>2010.000000</td>\n",
       "      <td>2.875000</td>\n",
       "    </tr>\n",
       "    <tr>\n",
       "      <th>50%</th>\n",
       "      <td>1069.000000</td>\n",
       "      <td>2013.000000</td>\n",
       "      <td>3.250000</td>\n",
       "    </tr>\n",
       "    <tr>\n",
       "      <th>75%</th>\n",
       "      <td>1502.000000</td>\n",
       "      <td>2015.000000</td>\n",
       "      <td>3.500000</td>\n",
       "    </tr>\n",
       "    <tr>\n",
       "      <th>max</th>\n",
       "      <td>1952.000000</td>\n",
       "      <td>2017.000000</td>\n",
       "      <td>5.000000</td>\n",
       "    </tr>\n",
       "  </tbody>\n",
       "</table>\n",
       "</div>"
      ],
      "text/plain": [
       "               REF  Review\\nDate       Rating\n",
       "count  1795.000000   1795.000000  1795.000000\n",
       "mean   1035.904735   2012.325348     3.185933\n",
       "std     552.886365      2.927210     0.478062\n",
       "min       5.000000   2006.000000     1.000000\n",
       "25%     576.000000   2010.000000     2.875000\n",
       "50%    1069.000000   2013.000000     3.250000\n",
       "75%    1502.000000   2015.000000     3.500000\n",
       "max    1952.000000   2017.000000     5.000000"
      ]
     },
     "execution_count": 4,
     "metadata": {},
     "output_type": "execute_result"
    }
   ],
   "source": [
    "choco_data.describe()"
   ]
  },
  {
   "cell_type": "code",
   "execution_count": 5,
   "id": "39f26bef",
   "metadata": {},
   "outputs": [
    {
     "data": {
      "text/plain": [
       "(1795, 9)"
      ]
     },
     "execution_count": 5,
     "metadata": {},
     "output_type": "execute_result"
    }
   ],
   "source": [
    "choco_data.shape"
   ]
  },
  {
   "cell_type": "code",
   "execution_count": 6,
   "id": "f3553995",
   "metadata": {},
   "outputs": [
    {
     "data": {
      "text/plain": [
       "Index(['Company \\n(Maker-if known)', 'Specific Bean Origin\\nor Bar Name',\n",
       "       'REF', 'Review\\nDate', 'Cocoa\\nPercent', 'Company\\nLocation', 'Rating',\n",
       "       'Bean\\nType', 'Broad Bean\\nOrigin'],\n",
       "      dtype='object')"
      ]
     },
     "execution_count": 6,
     "metadata": {},
     "output_type": "execute_result"
    }
   ],
   "source": [
    "# look at the header row of the DataFrame with column names. We also want to investigate the \"Bean Type\" column.\n",
    "# Print out the column names. What can you tell about the format of the column names?\n",
    "choco_data.columns\n"
   ]
  },
  {
   "cell_type": "code",
   "execution_count": 7,
   "id": "f733d632",
   "metadata": {},
   "outputs": [],
   "source": [
    "# Update column names, assign names that are easy to work with. \n",
    "# You can update all column names or only some of them, and you can assign new names.\n",
    "choco_data.columns = ['company', 'bar_name',\n",
    "       'REF', 'review_date', 'cocoa_per', 'location', 'Rating',\n",
    "       'bean_type', 'bean_origin']"
   ]
  },
  {
   "cell_type": "code",
   "execution_count": 8,
   "id": "2a35014c",
   "metadata": {},
   "outputs": [
    {
     "data": {
      "text/html": [
       "<div>\n",
       "<style scoped>\n",
       "    .dataframe tbody tr th:only-of-type {\n",
       "        vertical-align: middle;\n",
       "    }\n",
       "\n",
       "    .dataframe tbody tr th {\n",
       "        vertical-align: top;\n",
       "    }\n",
       "\n",
       "    .dataframe thead th {\n",
       "        text-align: right;\n",
       "    }\n",
       "</style>\n",
       "<table border=\"1\" class=\"dataframe\">\n",
       "  <thead>\n",
       "    <tr style=\"text-align: right;\">\n",
       "      <th></th>\n",
       "      <th>company</th>\n",
       "      <th>bar_name</th>\n",
       "      <th>REF</th>\n",
       "      <th>review_date</th>\n",
       "      <th>cocoa_per</th>\n",
       "      <th>location</th>\n",
       "      <th>Rating</th>\n",
       "      <th>bean_type</th>\n",
       "      <th>bean_origin</th>\n",
       "    </tr>\n",
       "  </thead>\n",
       "  <tbody>\n",
       "    <tr>\n",
       "      <th>0</th>\n",
       "      <td>A. Morin</td>\n",
       "      <td>Agua Grande</td>\n",
       "      <td>1876</td>\n",
       "      <td>2016</td>\n",
       "      <td>63%</td>\n",
       "      <td>France</td>\n",
       "      <td>3.75</td>\n",
       "      <td></td>\n",
       "      <td>Sao Tome</td>\n",
       "    </tr>\n",
       "    <tr>\n",
       "      <th>1</th>\n",
       "      <td>A. Morin</td>\n",
       "      <td>Kpime</td>\n",
       "      <td>1676</td>\n",
       "      <td>2015</td>\n",
       "      <td>70%</td>\n",
       "      <td>France</td>\n",
       "      <td>2.75</td>\n",
       "      <td></td>\n",
       "      <td>Togo</td>\n",
       "    </tr>\n",
       "    <tr>\n",
       "      <th>2</th>\n",
       "      <td>A. Morin</td>\n",
       "      <td>Atsane</td>\n",
       "      <td>1676</td>\n",
       "      <td>2015</td>\n",
       "      <td>70%</td>\n",
       "      <td>France</td>\n",
       "      <td>3.00</td>\n",
       "      <td></td>\n",
       "      <td>Togo</td>\n",
       "    </tr>\n",
       "    <tr>\n",
       "      <th>3</th>\n",
       "      <td>A. Morin</td>\n",
       "      <td>Akata</td>\n",
       "      <td>1680</td>\n",
       "      <td>2015</td>\n",
       "      <td>70%</td>\n",
       "      <td>France</td>\n",
       "      <td>3.50</td>\n",
       "      <td></td>\n",
       "      <td>Togo</td>\n",
       "    </tr>\n",
       "    <tr>\n",
       "      <th>4</th>\n",
       "      <td>A. Morin</td>\n",
       "      <td>Quilla</td>\n",
       "      <td>1704</td>\n",
       "      <td>2015</td>\n",
       "      <td>70%</td>\n",
       "      <td>France</td>\n",
       "      <td>3.50</td>\n",
       "      <td></td>\n",
       "      <td>Peru</td>\n",
       "    </tr>\n",
       "    <tr>\n",
       "      <th>...</th>\n",
       "      <td>...</td>\n",
       "      <td>...</td>\n",
       "      <td>...</td>\n",
       "      <td>...</td>\n",
       "      <td>...</td>\n",
       "      <td>...</td>\n",
       "      <td>...</td>\n",
       "      <td>...</td>\n",
       "      <td>...</td>\n",
       "    </tr>\n",
       "    <tr>\n",
       "      <th>1790</th>\n",
       "      <td>Zotter</td>\n",
       "      <td>Peru</td>\n",
       "      <td>647</td>\n",
       "      <td>2011</td>\n",
       "      <td>70%</td>\n",
       "      <td>Austria</td>\n",
       "      <td>3.75</td>\n",
       "      <td></td>\n",
       "      <td>Peru</td>\n",
       "    </tr>\n",
       "    <tr>\n",
       "      <th>1791</th>\n",
       "      <td>Zotter</td>\n",
       "      <td>Congo</td>\n",
       "      <td>749</td>\n",
       "      <td>2011</td>\n",
       "      <td>65%</td>\n",
       "      <td>Austria</td>\n",
       "      <td>3.00</td>\n",
       "      <td>Forastero</td>\n",
       "      <td>Congo</td>\n",
       "    </tr>\n",
       "    <tr>\n",
       "      <th>1792</th>\n",
       "      <td>Zotter</td>\n",
       "      <td>Kerala State</td>\n",
       "      <td>749</td>\n",
       "      <td>2011</td>\n",
       "      <td>65%</td>\n",
       "      <td>Austria</td>\n",
       "      <td>3.50</td>\n",
       "      <td>Forastero</td>\n",
       "      <td>India</td>\n",
       "    </tr>\n",
       "    <tr>\n",
       "      <th>1793</th>\n",
       "      <td>Zotter</td>\n",
       "      <td>Kerala State</td>\n",
       "      <td>781</td>\n",
       "      <td>2011</td>\n",
       "      <td>62%</td>\n",
       "      <td>Austria</td>\n",
       "      <td>3.25</td>\n",
       "      <td></td>\n",
       "      <td>India</td>\n",
       "    </tr>\n",
       "    <tr>\n",
       "      <th>1794</th>\n",
       "      <td>Zotter</td>\n",
       "      <td>Brazil, Mitzi Blue</td>\n",
       "      <td>486</td>\n",
       "      <td>2010</td>\n",
       "      <td>65%</td>\n",
       "      <td>Austria</td>\n",
       "      <td>3.00</td>\n",
       "      <td></td>\n",
       "      <td>Brazil</td>\n",
       "    </tr>\n",
       "  </tbody>\n",
       "</table>\n",
       "<p>1795 rows × 9 columns</p>\n",
       "</div>"
      ],
      "text/plain": [
       "       company            bar_name   REF  review_date cocoa_per location  \\\n",
       "0     A. Morin         Agua Grande  1876         2016       63%   France   \n",
       "1     A. Morin               Kpime  1676         2015       70%   France   \n",
       "2     A. Morin              Atsane  1676         2015       70%   France   \n",
       "3     A. Morin               Akata  1680         2015       70%   France   \n",
       "4     A. Morin              Quilla  1704         2015       70%   France   \n",
       "...        ...                 ...   ...          ...       ...      ...   \n",
       "1790    Zotter                Peru   647         2011       70%  Austria   \n",
       "1791    Zotter               Congo   749         2011       65%  Austria   \n",
       "1792    Zotter        Kerala State   749         2011       65%  Austria   \n",
       "1793    Zotter        Kerala State   781         2011       62%  Austria   \n",
       "1794    Zotter  Brazil, Mitzi Blue   486         2010       65%  Austria   \n",
       "\n",
       "      Rating  bean_type bean_origin  \n",
       "0       3.75               Sao Tome  \n",
       "1       2.75                   Togo  \n",
       "2       3.00                   Togo  \n",
       "3       3.50                   Togo  \n",
       "4       3.50                   Peru  \n",
       "...      ...        ...         ...  \n",
       "1790    3.75                   Peru  \n",
       "1791    3.00  Forastero       Congo  \n",
       "1792    3.50  Forastero       India  \n",
       "1793    3.25                  India  \n",
       "1794    3.00                 Brazil  \n",
       "\n",
       "[1795 rows x 9 columns]"
      ]
     },
     "execution_count": 8,
     "metadata": {},
     "output_type": "execute_result"
    }
   ],
   "source": [
    "choco_data"
   ]
  },
  {
   "cell_type": "code",
   "execution_count": 9,
   "id": "a649b034",
   "metadata": {},
   "outputs": [
    {
     "data": {
      "text/plain": [
       "array(['\\xa0', 'Criollo', 'Trinitario', 'Forastero (Arriba)', 'Forastero',\n",
       "       'Forastero (Nacional)', 'Criollo, Trinitario',\n",
       "       'Criollo (Porcelana)', 'Blend', 'Trinitario (85% Criollo)',\n",
       "       'Forastero (Catongo)', 'Forastero (Parazinho)',\n",
       "       'Trinitario, Criollo', 'CCN51', 'Criollo (Ocumare)', 'Nacional',\n",
       "       'Criollo (Ocumare 61)', 'Criollo (Ocumare 77)',\n",
       "       'Criollo (Ocumare 67)', 'Criollo (Wild)', 'Beniano', 'Amazon mix',\n",
       "       'Trinitario, Forastero', 'Forastero (Arriba) ASS', 'Criollo, +',\n",
       "       'Amazon', 'Amazon, ICS', 'EET', 'Blend-Forastero,Criollo',\n",
       "       'Trinitario (Scavina)', 'Criollo, Forastero', 'Matina',\n",
       "       'Forastero(Arriba, CCN)', 'Nacional (Arriba)',\n",
       "       'Forastero (Arriba) ASSS', 'Forastero, Trinitario',\n",
       "       'Forastero (Amelonado)', nan, 'Trinitario, Nacional',\n",
       "       'Trinitario (Amelonado)', 'Trinitario, TCGA', 'Criollo (Amarru)'],\n",
       "      dtype=object)"
      ]
     },
     "execution_count": 9,
     "metadata": {},
     "output_type": "execute_result"
    }
   ],
   "source": [
    "#Explore the \"Bean Type\" column. How many entries are there in this column? Are there any empty values?\n",
    "\n",
    "# we can see bean_type does have empty but they are not coming in describe\n",
    "\n",
    "# lets check what feels null to our eye what values it contain by finding unique values in bean_type\n",
    "choco_data['bean_type'].unique()"
   ]
  },
  {
   "cell_type": "code",
   "execution_count": 10,
   "id": "33b4e9de",
   "metadata": {},
   "outputs": [
    {
     "data": {
      "text/plain": [
       "array(['Sao Tome', 'Togo', 'Peru', 'Venezuela', 'Cuba', 'Panama',\n",
       "       'Madagascar', 'Brazil', 'Ecuador', 'Colombia', 'Burma',\n",
       "       'Papua New Guinea', 'Bolivia', 'Fiji', 'Mexico', 'Indonesia',\n",
       "       'Trinidad', 'Vietnam', 'Nicaragua', 'Tanzania',\n",
       "       'Dominican Republic', 'Ghana', 'Belize', '\\xa0', 'Jamaica',\n",
       "       'Grenada', 'Guatemala', 'Honduras', 'Costa Rica',\n",
       "       'Domincan Republic', 'Haiti', 'Congo', 'Philippines', 'Malaysia',\n",
       "       'Dominican Rep., Bali', 'Venez,Africa,Brasil,Peru,Mex', 'Gabon',\n",
       "       'Ivory Coast', 'Carribean', 'Sri Lanka', 'Puerto Rico', 'Uganda',\n",
       "       'Martinique', 'Sao Tome & Principe', 'Vanuatu', 'Australia',\n",
       "       'Liberia', 'Ecuador, Costa Rica', 'West Africa', 'Hawaii',\n",
       "       'St. Lucia', 'Cost Rica, Ven', 'Peru, Madagascar',\n",
       "       'Venezuela, Trinidad', 'Trinidad, Tobago',\n",
       "       'Ven, Trinidad, Ecuador', 'South America, Africa', 'India',\n",
       "       'Africa, Carribean, C. Am.', 'Tobago', 'Ven., Indonesia, Ecuad.',\n",
       "       'Trinidad-Tobago', 'Peru, Ecuador, Venezuela',\n",
       "       'Venezuela, Dom. Rep.', 'Colombia, Ecuador', 'Solomon Islands',\n",
       "       'Nigeria', 'Peru, Belize', 'Peru, Mad., Dom. Rep.', nan,\n",
       "       'PNG, Vanuatu, Mad', 'El Salvador', 'South America', 'Samoa',\n",
       "       'Ghana, Domin. Rep', 'Trinidad, Ecuador', 'Cameroon',\n",
       "       'Venezuela, Java', 'Venezuela/ Ghana', 'Venezuela, Ghana',\n",
       "       'Indonesia, Ghana', 'Peru(SMartin,Pangoa,nacional)', 'Principe',\n",
       "       'Central and S. America', 'Ven., Trinidad, Mad.',\n",
       "       'Carribean(DR/Jam/Tri)', 'Ghana & Madagascar',\n",
       "       'Ven.,Ecu.,Peru,Nic.', 'Madagascar & Ecuador',\n",
       "       'Guat., D.R., Peru, Mad., PNG', 'Peru, Dom. Rep',\n",
       "       'Dom. Rep., Madagascar', 'Gre., PNG, Haw., Haiti, Mad',\n",
       "       'Mad., Java, PNG', 'Ven, Bolivia, D.R.', 'DR, Ecuador, Peru',\n",
       "       'Suriname', 'Peru, Ecuador', 'Ecuador, Mad., PNG',\n",
       "       'Ghana, Panama, Ecuador', 'Venezuela, Carribean'], dtype=object)"
      ]
     },
     "execution_count": 10,
     "metadata": {},
     "output_type": "execute_result"
    }
   ],
   "source": [
    "choco_data['bean_origin'].unique()"
   ]
  },
  {
   "cell_type": "code",
   "execution_count": 11,
   "id": "2460d154",
   "metadata": {},
   "outputs": [
    {
     "data": {
      "text/plain": [
       "'\\xa0'"
      ]
     },
     "execution_count": 11,
     "metadata": {},
     "output_type": "execute_result"
    }
   ],
   "source": [
    "# \\xa0 is something appearing where we see nothing\n",
    "# We can replace it with NaN values\n",
    "\n",
    "q=choco_data['bean_type'].replace('\\xa0',np.nan)\n",
    "q\n",
    "choco_data['bean_type'][2]"
   ]
  },
  {
   "cell_type": "code",
   "execution_count": 12,
   "id": "92545468",
   "metadata": {},
   "outputs": [
    {
     "data": {
      "text/html": [
       "<div>\n",
       "<style scoped>\n",
       "    .dataframe tbody tr th:only-of-type {\n",
       "        vertical-align: middle;\n",
       "    }\n",
       "\n",
       "    .dataframe tbody tr th {\n",
       "        vertical-align: top;\n",
       "    }\n",
       "\n",
       "    .dataframe thead th {\n",
       "        text-align: right;\n",
       "    }\n",
       "</style>\n",
       "<table border=\"1\" class=\"dataframe\">\n",
       "  <thead>\n",
       "    <tr style=\"text-align: right;\">\n",
       "      <th></th>\n",
       "      <th>company</th>\n",
       "      <th>bar_name</th>\n",
       "      <th>REF</th>\n",
       "      <th>review_date</th>\n",
       "      <th>cocoa_per</th>\n",
       "      <th>location</th>\n",
       "      <th>Rating</th>\n",
       "      <th>bean_type</th>\n",
       "      <th>bean_origin</th>\n",
       "    </tr>\n",
       "  </thead>\n",
       "  <tbody>\n",
       "    <tr>\n",
       "      <th>0</th>\n",
       "      <td>A. Morin</td>\n",
       "      <td>Agua Grande</td>\n",
       "      <td>1876</td>\n",
       "      <td>2016</td>\n",
       "      <td>63%</td>\n",
       "      <td>France</td>\n",
       "      <td>3.75</td>\n",
       "      <td></td>\n",
       "      <td>Sao Tome</td>\n",
       "    </tr>\n",
       "    <tr>\n",
       "      <th>1</th>\n",
       "      <td>A. Morin</td>\n",
       "      <td>Kpime</td>\n",
       "      <td>1676</td>\n",
       "      <td>2015</td>\n",
       "      <td>70%</td>\n",
       "      <td>France</td>\n",
       "      <td>2.75</td>\n",
       "      <td></td>\n",
       "      <td>Togo</td>\n",
       "    </tr>\n",
       "    <tr>\n",
       "      <th>2</th>\n",
       "      <td>A. Morin</td>\n",
       "      <td>Atsane</td>\n",
       "      <td>1676</td>\n",
       "      <td>2015</td>\n",
       "      <td>70%</td>\n",
       "      <td>France</td>\n",
       "      <td>3.00</td>\n",
       "      <td></td>\n",
       "      <td>Togo</td>\n",
       "    </tr>\n",
       "    <tr>\n",
       "      <th>3</th>\n",
       "      <td>A. Morin</td>\n",
       "      <td>Akata</td>\n",
       "      <td>1680</td>\n",
       "      <td>2015</td>\n",
       "      <td>70%</td>\n",
       "      <td>France</td>\n",
       "      <td>3.50</td>\n",
       "      <td></td>\n",
       "      <td>Togo</td>\n",
       "    </tr>\n",
       "    <tr>\n",
       "      <th>4</th>\n",
       "      <td>A. Morin</td>\n",
       "      <td>Quilla</td>\n",
       "      <td>1704</td>\n",
       "      <td>2015</td>\n",
       "      <td>70%</td>\n",
       "      <td>France</td>\n",
       "      <td>3.50</td>\n",
       "      <td></td>\n",
       "      <td>Peru</td>\n",
       "    </tr>\n",
       "    <tr>\n",
       "      <th>...</th>\n",
       "      <td>...</td>\n",
       "      <td>...</td>\n",
       "      <td>...</td>\n",
       "      <td>...</td>\n",
       "      <td>...</td>\n",
       "      <td>...</td>\n",
       "      <td>...</td>\n",
       "      <td>...</td>\n",
       "      <td>...</td>\n",
       "    </tr>\n",
       "    <tr>\n",
       "      <th>1790</th>\n",
       "      <td>Zotter</td>\n",
       "      <td>Peru</td>\n",
       "      <td>647</td>\n",
       "      <td>2011</td>\n",
       "      <td>70%</td>\n",
       "      <td>Austria</td>\n",
       "      <td>3.75</td>\n",
       "      <td></td>\n",
       "      <td>Peru</td>\n",
       "    </tr>\n",
       "    <tr>\n",
       "      <th>1791</th>\n",
       "      <td>Zotter</td>\n",
       "      <td>Congo</td>\n",
       "      <td>749</td>\n",
       "      <td>2011</td>\n",
       "      <td>65%</td>\n",
       "      <td>Austria</td>\n",
       "      <td>3.00</td>\n",
       "      <td>Forastero</td>\n",
       "      <td>Congo</td>\n",
       "    </tr>\n",
       "    <tr>\n",
       "      <th>1792</th>\n",
       "      <td>Zotter</td>\n",
       "      <td>Kerala State</td>\n",
       "      <td>749</td>\n",
       "      <td>2011</td>\n",
       "      <td>65%</td>\n",
       "      <td>Austria</td>\n",
       "      <td>3.50</td>\n",
       "      <td>Forastero</td>\n",
       "      <td>India</td>\n",
       "    </tr>\n",
       "    <tr>\n",
       "      <th>1793</th>\n",
       "      <td>Zotter</td>\n",
       "      <td>Kerala State</td>\n",
       "      <td>781</td>\n",
       "      <td>2011</td>\n",
       "      <td>62%</td>\n",
       "      <td>Austria</td>\n",
       "      <td>3.25</td>\n",
       "      <td></td>\n",
       "      <td>India</td>\n",
       "    </tr>\n",
       "    <tr>\n",
       "      <th>1794</th>\n",
       "      <td>Zotter</td>\n",
       "      <td>Brazil, Mitzi Blue</td>\n",
       "      <td>486</td>\n",
       "      <td>2010</td>\n",
       "      <td>65%</td>\n",
       "      <td>Austria</td>\n",
       "      <td>3.00</td>\n",
       "      <td></td>\n",
       "      <td>Brazil</td>\n",
       "    </tr>\n",
       "  </tbody>\n",
       "</table>\n",
       "<p>1795 rows × 9 columns</p>\n",
       "</div>"
      ],
      "text/plain": [
       "       company            bar_name   REF  review_date cocoa_per location  \\\n",
       "0     A. Morin         Agua Grande  1876         2016       63%   France   \n",
       "1     A. Morin               Kpime  1676         2015       70%   France   \n",
       "2     A. Morin              Atsane  1676         2015       70%   France   \n",
       "3     A. Morin               Akata  1680         2015       70%   France   \n",
       "4     A. Morin              Quilla  1704         2015       70%   France   \n",
       "...        ...                 ...   ...          ...       ...      ...   \n",
       "1790    Zotter                Peru   647         2011       70%  Austria   \n",
       "1791    Zotter               Congo   749         2011       65%  Austria   \n",
       "1792    Zotter        Kerala State   749         2011       65%  Austria   \n",
       "1793    Zotter        Kerala State   781         2011       62%  Austria   \n",
       "1794    Zotter  Brazil, Mitzi Blue   486         2010       65%  Austria   \n",
       "\n",
       "      Rating  bean_type bean_origin  \n",
       "0       3.75               Sao Tome  \n",
       "1       2.75                   Togo  \n",
       "2       3.00                   Togo  \n",
       "3       3.50                   Togo  \n",
       "4       3.50                   Peru  \n",
       "...      ...        ...         ...  \n",
       "1790    3.75                   Peru  \n",
       "1791    3.00  Forastero       Congo  \n",
       "1792    3.50  Forastero       India  \n",
       "1793    3.25                  India  \n",
       "1794    3.00                 Brazil  \n",
       "\n",
       "[1795 rows x 9 columns]"
      ]
     },
     "execution_count": 12,
     "metadata": {},
     "output_type": "execute_result"
    }
   ],
   "source": [
    "choco_data # nothing changed here, as change was done in q"
   ]
  },
  {
   "cell_type": "code",
   "execution_count": 13,
   "id": "bb545c36",
   "metadata": {},
   "outputs": [
    {
     "name": "stdout",
     "output_type": "stream",
     "text": [
      "<class 'pandas.core.frame.DataFrame'>\n",
      "RangeIndex: 1795 entries, 0 to 1794\n",
      "Data columns (total 9 columns):\n",
      " #   Column       Non-Null Count  Dtype  \n",
      "---  ------       --------------  -----  \n",
      " 0   company      1795 non-null   object \n",
      " 1   bar_name     1795 non-null   object \n",
      " 2   REF          1795 non-null   int64  \n",
      " 3   review_date  1795 non-null   int64  \n",
      " 4   cocoa_per    1795 non-null   object \n",
      " 5   location     1795 non-null   object \n",
      " 6   Rating       1795 non-null   float64\n",
      " 7   bean_type    907 non-null    object \n",
      " 8   bean_origin  1721 non-null   object \n",
      "dtypes: float64(1), int64(2), object(6)\n",
      "memory usage: 126.3+ KB\n"
     ]
    }
   ],
   "source": [
    "choco_data['bean_type'].replace(u'\\xa0',np.nan, regex=True, inplace=True)\n",
    "choco_data['bean_origin'].replace(u'\\xa0',np.nan, regex=True, inplace=True)\n",
    "choco_data.info()"
   ]
  },
  {
   "cell_type": "code",
   "execution_count": 14,
   "id": "f4c7ed4e",
   "metadata": {},
   "outputs": [],
   "source": [
    "# Now \\xa0 got replaced with Nan values thats why bean's null values increased"
   ]
  },
  {
   "cell_type": "markdown",
   "id": "5f03f698",
   "metadata": {},
   "source": [
    "### Find the record with the highest chocolate rating. What company produces the chocolate bar and what country do the beans originate from?"
   ]
  },
  {
   "cell_type": "code",
   "execution_count": 15,
   "id": "101a554a",
   "metadata": {},
   "outputs": [],
   "source": [
    "highest_rating = choco_data['Rating'].max()"
   ]
  },
  {
   "cell_type": "code",
   "execution_count": 16,
   "id": "be6c66e7",
   "metadata": {},
   "outputs": [
    {
     "data": {
      "text/html": [
       "<div>\n",
       "<style scoped>\n",
       "    .dataframe tbody tr th:only-of-type {\n",
       "        vertical-align: middle;\n",
       "    }\n",
       "\n",
       "    .dataframe tbody tr th {\n",
       "        vertical-align: top;\n",
       "    }\n",
       "\n",
       "    .dataframe thead th {\n",
       "        text-align: right;\n",
       "    }\n",
       "</style>\n",
       "<table border=\"1\" class=\"dataframe\">\n",
       "  <thead>\n",
       "    <tr style=\"text-align: right;\">\n",
       "      <th></th>\n",
       "      <th>company</th>\n",
       "      <th>bar_name</th>\n",
       "      <th>REF</th>\n",
       "      <th>review_date</th>\n",
       "      <th>cocoa_per</th>\n",
       "      <th>location</th>\n",
       "      <th>Rating</th>\n",
       "      <th>bean_type</th>\n",
       "      <th>bean_origin</th>\n",
       "    </tr>\n",
       "  </thead>\n",
       "  <tbody>\n",
       "    <tr>\n",
       "      <th>78</th>\n",
       "      <td>Amedei</td>\n",
       "      <td>Chuao</td>\n",
       "      <td>111</td>\n",
       "      <td>2007</td>\n",
       "      <td>70%</td>\n",
       "      <td>Italy</td>\n",
       "      <td>5.0</td>\n",
       "      <td>Trinitario</td>\n",
       "      <td>Venezuela</td>\n",
       "    </tr>\n",
       "    <tr>\n",
       "      <th>86</th>\n",
       "      <td>Amedei</td>\n",
       "      <td>Toscano Black</td>\n",
       "      <td>40</td>\n",
       "      <td>2006</td>\n",
       "      <td>70%</td>\n",
       "      <td>Italy</td>\n",
       "      <td>5.0</td>\n",
       "      <td>Blend</td>\n",
       "      <td>NaN</td>\n",
       "    </tr>\n",
       "  </tbody>\n",
       "</table>\n",
       "</div>"
      ],
      "text/plain": [
       "   company       bar_name  REF  review_date cocoa_per location  Rating  \\\n",
       "78  Amedei          Chuao  111         2007       70%    Italy     5.0   \n",
       "86  Amedei  Toscano Black   40         2006       70%    Italy     5.0   \n",
       "\n",
       "     bean_type bean_origin  \n",
       "78  Trinitario   Venezuela  \n",
       "86       Blend         NaN  "
      ]
     },
     "execution_count": 16,
     "metadata": {},
     "output_type": "execute_result"
    }
   ],
   "source": [
    "highest_rating_record = choco_data [choco_data['Rating']==highest_rating]\n",
    "highest_rating_record"
   ]
  },
  {
   "cell_type": "code",
   "execution_count": 17,
   "id": "b6b8ad4d",
   "metadata": {},
   "outputs": [
    {
     "data": {
      "text/plain": [
       "company            Amedei\n",
       "bar_name            Chuao\n",
       "REF                   111\n",
       "review_date          2007\n",
       "cocoa_per             70%\n",
       "location            Italy\n",
       "Rating                5.0\n",
       "bean_type      Trinitario\n",
       "bean_origin     Venezuela\n",
       "Name: 78, dtype: object"
      ]
     },
     "execution_count": 17,
     "metadata": {},
     "output_type": "execute_result"
    }
   ],
   "source": [
    "choco_data.loc[choco_data.Rating.idxmax()]"
   ]
  },
  {
   "cell_type": "markdown",
   "id": "185d351f",
   "metadata": {},
   "source": [
    "### Amedei company orgin from Venezeuala has highest rating\n",
    "As you can see, the highest rating of 5 was given to the chocolate bar Chuao of the company Amedei with 70% cacao made from a bean from Venezuela. \n",
    "However, we can see that there are actually two chocolate bars, both from the company Amedei, that have the highest rating of 5"
   ]
  },
  {
   "cell_type": "code",
   "execution_count": 18,
   "id": "c20fdb16",
   "metadata": {},
   "outputs": [
    {
     "data": {
      "text/plain": [
       "Int64Index([78, 86], dtype='int64')"
      ]
     },
     "execution_count": 18,
     "metadata": {},
     "output_type": "execute_result"
    }
   ],
   "source": [
    "#By adding `index` method, we get only the index for both records:\n",
    "choco_data [choco_data['Rating']==highest_rating].index"
   ]
  },
  {
   "cell_type": "markdown",
   "id": "66f2fefd",
   "metadata": {},
   "source": [
    "### Beans from what country are the most frequently used in the chocolate bars? We are looking for a top 10 countries of origin."
   ]
  },
  {
   "cell_type": "code",
   "execution_count": 19,
   "id": "d0cadcd6",
   "metadata": {},
   "outputs": [
    {
     "data": {
      "text/plain": [
       "Venezuela                214\n",
       "Ecuador                  193\n",
       "Peru                     165\n",
       "Madagascar               145\n",
       "Dominican Republic       141\n",
       "                        ... \n",
       "Peru, Belize               1\n",
       "Peru, Mad., Dom. Rep.      1\n",
       "PNG, Vanuatu, Mad          1\n",
       "Trinidad, Ecuador          1\n",
       "Venezuela, Carribean       1\n",
       "Name: bean_origin, Length: 99, dtype: int64"
      ]
     },
     "execution_count": 19,
     "metadata": {},
     "output_type": "execute_result"
    }
   ],
   "source": [
    "# Top 10 countries of origin which have the most rows of data in the dataset\n",
    "choco_data['bean_origin'].value_counts()"
   ]
  },
  {
   "cell_type": "code",
   "execution_count": 20,
   "id": "317218ff",
   "metadata": {},
   "outputs": [
    {
     "data": {
      "text/plain": [
       "Venezuela             214\n",
       "Ecuador               193\n",
       "Peru                  165\n",
       "Madagascar            145\n",
       "Dominican Republic    141\n",
       "Nicaragua              60\n",
       "Brazil                 58\n",
       "Bolivia                57\n",
       "Belize                 49\n",
       "Papua New Guinea       42\n",
       "Name: bean_origin, dtype: int64"
      ]
     },
     "execution_count": 20,
     "metadata": {},
     "output_type": "execute_result"
    }
   ],
   "source": [
    "choco_data['bean_origin'].value_counts().head(10)"
   ]
  },
  {
   "cell_type": "markdown",
   "id": "15d5b70d",
   "metadata": {},
   "source": [
    "### Find the region of origin (column bean_origin) for the chocolate bars with the highest rating. Display the top 10 results, sorted by the rating and cocoa percent (column cocoa_per)."
   ]
  },
  {
   "cell_type": "code",
   "execution_count": 21,
   "id": "5ca29313",
   "metadata": {},
   "outputs": [
    {
     "data": {
      "text/plain": [
       "74"
      ]
     },
     "execution_count": 21,
     "metadata": {},
     "output_type": "execute_result"
    }
   ],
   "source": [
    "# if `bean_origin` has any null values:\n",
    "choco_data['bean_origin'].isnull().sum()\n",
    "#Yes, there are 74 missing values"
   ]
  },
  {
   "cell_type": "code",
   "execution_count": 22,
   "id": "48425a5b",
   "metadata": {},
   "outputs": [
    {
     "name": "stdout",
     "output_type": "stream",
     "text": [
      "<class 'pandas.core.frame.DataFrame'>\n",
      "RangeIndex: 1795 entries, 0 to 1794\n",
      "Data columns (total 1 columns):\n",
      " #   Column     Non-Null Count  Dtype \n",
      "---  ------     --------------  ----- \n",
      " 0   cocoa_per  1795 non-null   object\n",
      "dtypes: object(1)\n",
      "memory usage: 14.1+ KB\n"
     ]
    }
   ],
   "source": [
    "# Fixing cocoa percent (column cocoa_per)\n",
    "choco_data[['cocoa_per']].info()"
   ]
  },
  {
   "cell_type": "code",
   "execution_count": 23,
   "id": "9949469c",
   "metadata": {},
   "outputs": [
    {
     "data": {
      "text/html": [
       "<div>\n",
       "<style scoped>\n",
       "    .dataframe tbody tr th:only-of-type {\n",
       "        vertical-align: middle;\n",
       "    }\n",
       "\n",
       "    .dataframe tbody tr th {\n",
       "        vertical-align: top;\n",
       "    }\n",
       "\n",
       "    .dataframe thead th {\n",
       "        text-align: right;\n",
       "    }\n",
       "</style>\n",
       "<table border=\"1\" class=\"dataframe\">\n",
       "  <thead>\n",
       "    <tr style=\"text-align: right;\">\n",
       "      <th></th>\n",
       "      <th>company</th>\n",
       "      <th>bar_name</th>\n",
       "      <th>REF</th>\n",
       "      <th>review_date</th>\n",
       "      <th>cocoa_per</th>\n",
       "      <th>location</th>\n",
       "      <th>Rating</th>\n",
       "      <th>bean_type</th>\n",
       "      <th>bean_origin</th>\n",
       "    </tr>\n",
       "  </thead>\n",
       "  <tbody>\n",
       "    <tr>\n",
       "      <th>0</th>\n",
       "      <td>A. Morin</td>\n",
       "      <td>Agua Grande</td>\n",
       "      <td>1876</td>\n",
       "      <td>2016</td>\n",
       "      <td>63.0</td>\n",
       "      <td>France</td>\n",
       "      <td>3.75</td>\n",
       "      <td>NaN</td>\n",
       "      <td>Sao Tome</td>\n",
       "    </tr>\n",
       "    <tr>\n",
       "      <th>1</th>\n",
       "      <td>A. Morin</td>\n",
       "      <td>Kpime</td>\n",
       "      <td>1676</td>\n",
       "      <td>2015</td>\n",
       "      <td>70.0</td>\n",
       "      <td>France</td>\n",
       "      <td>2.75</td>\n",
       "      <td>NaN</td>\n",
       "      <td>Togo</td>\n",
       "    </tr>\n",
       "    <tr>\n",
       "      <th>2</th>\n",
       "      <td>A. Morin</td>\n",
       "      <td>Atsane</td>\n",
       "      <td>1676</td>\n",
       "      <td>2015</td>\n",
       "      <td>70.0</td>\n",
       "      <td>France</td>\n",
       "      <td>3.00</td>\n",
       "      <td>NaN</td>\n",
       "      <td>Togo</td>\n",
       "    </tr>\n",
       "    <tr>\n",
       "      <th>3</th>\n",
       "      <td>A. Morin</td>\n",
       "      <td>Akata</td>\n",
       "      <td>1680</td>\n",
       "      <td>2015</td>\n",
       "      <td>70.0</td>\n",
       "      <td>France</td>\n",
       "      <td>3.50</td>\n",
       "      <td>NaN</td>\n",
       "      <td>Togo</td>\n",
       "    </tr>\n",
       "    <tr>\n",
       "      <th>4</th>\n",
       "      <td>A. Morin</td>\n",
       "      <td>Quilla</td>\n",
       "      <td>1704</td>\n",
       "      <td>2015</td>\n",
       "      <td>70.0</td>\n",
       "      <td>France</td>\n",
       "      <td>3.50</td>\n",
       "      <td>NaN</td>\n",
       "      <td>Peru</td>\n",
       "    </tr>\n",
       "  </tbody>\n",
       "</table>\n",
       "</div>"
      ],
      "text/plain": [
       "    company     bar_name   REF  review_date  cocoa_per location  Rating  \\\n",
       "0  A. Morin  Agua Grande  1876         2016       63.0   France    3.75   \n",
       "1  A. Morin        Kpime  1676         2015       70.0   France    2.75   \n",
       "2  A. Morin       Atsane  1676         2015       70.0   France    3.00   \n",
       "3  A. Morin        Akata  1680         2015       70.0   France    3.50   \n",
       "4  A. Morin       Quilla  1704         2015       70.0   France    3.50   \n",
       "\n",
       "  bean_type bean_origin  \n",
       "0       NaN    Sao Tome  \n",
       "1       NaN        Togo  \n",
       "2       NaN        Togo  \n",
       "3       NaN        Togo  \n",
       "4       NaN        Peru  "
      ]
     },
     "execution_count": 23,
     "metadata": {},
     "output_type": "execute_result"
    }
   ],
   "source": [
    "# The data in this column is formatted as string. but it needs to be %age (numeric ) in order to do mean and sort\n",
    "choco_data['cocoa_per'] = choco_data['cocoa_per'].apply(lambda x: x.split('%')[0]).astype(float)\n",
    "choco_data.head()"
   ]
  },
  {
   "cell_type": "code",
   "execution_count": 24,
   "id": "56de2bee",
   "metadata": {},
   "outputs": [
    {
     "data": {
      "text/html": [
       "<div>\n",
       "<style scoped>\n",
       "    .dataframe tbody tr th:only-of-type {\n",
       "        vertical-align: middle;\n",
       "    }\n",
       "\n",
       "    .dataframe tbody tr th {\n",
       "        vertical-align: top;\n",
       "    }\n",
       "\n",
       "    .dataframe thead th {\n",
       "        text-align: right;\n",
       "    }\n",
       "</style>\n",
       "<table border=\"1\" class=\"dataframe\">\n",
       "  <thead>\n",
       "    <tr style=\"text-align: right;\">\n",
       "      <th></th>\n",
       "      <th>Rating</th>\n",
       "      <th>cocoa_per</th>\n",
       "    </tr>\n",
       "    <tr>\n",
       "      <th>bean_origin</th>\n",
       "      <th></th>\n",
       "      <th></th>\n",
       "    </tr>\n",
       "  </thead>\n",
       "  <tbody>\n",
       "    <tr>\n",
       "      <th>Guat., D.R., Peru, Mad., PNG</th>\n",
       "      <td>4.00</td>\n",
       "      <td>88.0</td>\n",
       "    </tr>\n",
       "    <tr>\n",
       "      <th>Dom. Rep., Madagascar</th>\n",
       "      <td>4.00</td>\n",
       "      <td>70.0</td>\n",
       "    </tr>\n",
       "    <tr>\n",
       "      <th>Gre., PNG, Haw., Haiti, Mad</th>\n",
       "      <td>4.00</td>\n",
       "      <td>70.0</td>\n",
       "    </tr>\n",
       "    <tr>\n",
       "      <th>Ven, Bolivia, D.R.</th>\n",
       "      <td>4.00</td>\n",
       "      <td>70.0</td>\n",
       "    </tr>\n",
       "    <tr>\n",
       "      <th>Venezuela, Java</th>\n",
       "      <td>4.00</td>\n",
       "      <td>70.0</td>\n",
       "    </tr>\n",
       "    <tr>\n",
       "      <th>Peru, Dom. Rep</th>\n",
       "      <td>4.00</td>\n",
       "      <td>67.0</td>\n",
       "    </tr>\n",
       "    <tr>\n",
       "      <th>Peru, Belize</th>\n",
       "      <td>3.75</td>\n",
       "      <td>75.0</td>\n",
       "    </tr>\n",
       "    <tr>\n",
       "      <th>Ven.,Ecu.,Peru,Nic.</th>\n",
       "      <td>3.75</td>\n",
       "      <td>75.0</td>\n",
       "    </tr>\n",
       "    <tr>\n",
       "      <th>DR, Ecuador, Peru</th>\n",
       "      <td>3.75</td>\n",
       "      <td>70.0</td>\n",
       "    </tr>\n",
       "    <tr>\n",
       "      <th>Dominican Rep., Bali</th>\n",
       "      <td>3.75</td>\n",
       "      <td>70.0</td>\n",
       "    </tr>\n",
       "  </tbody>\n",
       "</table>\n",
       "</div>"
      ],
      "text/plain": [
       "                              Rating  cocoa_per\n",
       "bean_origin                                    \n",
       "Guat., D.R., Peru, Mad., PNG    4.00       88.0\n",
       "Dom. Rep., Madagascar           4.00       70.0\n",
       "Gre., PNG, Haw., Haiti, Mad     4.00       70.0\n",
       "Ven, Bolivia, D.R.              4.00       70.0\n",
       "Venezuela, Java                 4.00       70.0\n",
       "Peru, Dom. Rep                  4.00       67.0\n",
       "Peru, Belize                    3.75       75.0\n",
       "Ven.,Ecu.,Peru,Nic.             3.75       75.0\n",
       "DR, Ecuador, Peru               3.75       70.0\n",
       "Dominican Rep., Bali            3.75       70.0"
      ]
     },
     "execution_count": 24,
     "metadata": {},
     "output_type": "execute_result"
    }
   ],
   "source": [
    "# group by bean_origin, sort by mean of rating and cocoa_per , display top 10\n",
    "choco_data.groupby('bean_origin')\\\n",
    "[['Rating','cocoa_per']].aggregate('mean').sort_values(by = ['Rating','cocoa_per'],ascending=False).head(10)"
   ]
  },
  {
   "cell_type": "markdown",
   "id": "0a672e59",
   "metadata": {},
   "source": [
    "#### The results reveal that the highest-rated chocolate bars are crafted from a blend of beans sourced from various countries. Additionally, the results indicate that these top-rated bars tend to have a relatively high cocoa percentage."
   ]
  },
  {
   "cell_type": "markdown",
   "id": "10e03d1a",
   "metadata": {},
   "source": [
    "### What countries are the top 10 chocolate producers, based on the variety of chocolate bars produced?\n",
    "### And what countries produce the highest rated chocolate bars (top 10)?"
   ]
  },
  {
   "cell_type": "code",
   "execution_count": 25,
   "id": "070ca8a8",
   "metadata": {},
   "outputs": [
    {
     "data": {
      "text/plain": [
       "U.S.A.         764\n",
       "France         156\n",
       "Canada         125\n",
       "U.K.            96\n",
       "Italy           63\n",
       "Ecuador         54\n",
       "Australia       49\n",
       "Belgium         40\n",
       "Switzerland     38\n",
       "Germany         35\n",
       "Name: location, dtype: int64"
      ]
     },
     "execution_count": 25,
     "metadata": {},
     "output_type": "execute_result"
    }
   ],
   "source": [
    "# Aggregation of the number of rows in the dataset, based on the company_location column:\n",
    "choco_data.location.value_counts().head(10)"
   ]
  },
  {
   "cell_type": "markdown",
   "id": "5d3d15d9",
   "metadata": {},
   "source": [
    "Largest producer of chocolate bars is USA, followed by France, Canda, UK and Italy"
   ]
  },
  {
   "cell_type": "code",
   "execution_count": 26,
   "id": "b39f2de1",
   "metadata": {},
   "outputs": [
    {
     "data": {
      "text/plain": [
       "location\n",
       "Italy          5.0\n",
       "U.S.A.         4.0\n",
       "Spain          4.0\n",
       "Germany        4.0\n",
       "Scotland       4.0\n",
       "Sao Tome       4.0\n",
       "Switzerland    4.0\n",
       "U.K.           4.0\n",
       "Ecuador        4.0\n",
       "France         4.0\n",
       "Name: Rating, dtype: float64"
      ]
     },
     "execution_count": 26,
     "metadata": {},
     "output_type": "execute_result"
    }
   ],
   "source": [
    "choco_data.groupby('location')['Rating'].max().sort_values(ascending =False).head(10)"
   ]
  },
  {
   "cell_type": "markdown",
   "id": "bc4597cc",
   "metadata": {},
   "source": [
    "#### Highest rated chocolate bars are produced in Italy, Brazil and Guatemala, to name the top 3 locations"
   ]
  }
 ],
 "metadata": {
  "kernelspec": {
   "display_name": "Python 3 (ipykernel)",
   "language": "python",
   "name": "python3"
  },
  "language_info": {
   "codemirror_mode": {
    "name": "ipython",
    "version": 3
   },
   "file_extension": ".py",
   "mimetype": "text/x-python",
   "name": "python",
   "nbconvert_exporter": "python",
   "pygments_lexer": "ipython3",
   "version": "3.9.13"
  }
 },
 "nbformat": 4,
 "nbformat_minor": 5
}
