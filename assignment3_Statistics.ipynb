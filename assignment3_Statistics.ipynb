{
 "cells": [
  {
   "cell_type": "markdown",
   "metadata": {
    "colab_type": "text",
    "id": "1oGjoWSWqQ77"
   },
   "source": [
    "## Assignment 3"
   ]
  },
  {
   "cell_type": "markdown",
   "metadata": {
    "colab_type": "text",
    "id": "-oi4JzShqQ78"
   },
   "source": [
    "This assignmemt is based on content discussed in modules 3 - 5 and test basic concepts of statistical inference theory and probability distributions."
   ]
  },
  {
   "cell_type": "markdown",
   "metadata": {
    "colab_type": "text",
    "id": "gjI1J5nXqQ79"
   },
   "source": [
    "## Learning outcomes"
   ]
  },
  {
   "cell_type": "markdown",
   "metadata": {
    "colab_type": "text",
    "id": "R9t0LyaqqQ7-"
   },
   "source": [
    "-   Work on problems of different distributions eg., gaussian \n",
    "-   Calculate z score \n",
    "-\tMake statistical inferences on given data\n",
    "-\tConstruct a null and an alternate hypothesis\n",
    "-\tFind the p-value for a given hypothesis and T test statistic."
   ]
  },
  {
   "cell_type": "markdown",
   "metadata": {
    "colab_type": "text",
    "id": "_lXvCMN_qQ7_"
   },
   "source": [
    "**Question 1**\n",
    "\n",
    "The Capital Asset Pricing Model (CAPM) is a financial model that assumes returns on a portfolio are normally distributed.  Suppose a portfolio has an average annual return of 14.7% (i.e., an average gain on 14.7%) with a standard deviation of 33%.  A return of 0% means the value of the portfolio doesn't change, a negative return means that the portfolio loses money, and a positive return means that the portfolio gains money. Determine the following:\n",
    "\n",
    "1. What percentage of years does this portfolio lose money, (i.e. have a return less than 0%)?\n",
    "2. What is the cutoff for the highest 15% of annual returns with this portfolio?\n",
    "\n",
    "See CAPM here https://en.wikipedia.org/wiki/Capital_asset_pricing_model "
   ]
  },
  {
   "cell_type": "markdown",
   "metadata": {
    "colab_type": "text",
    "id": "_l53E9BAqQ8A"
   },
   "source": [
    "**Question 2**\n",
    "\n",
    "Past experience indicates that because of low morale, a company loses 20 hours a year per employee due to lateness and abstenteeism.  Assume that the standard deviation of the population is 6 and normally distributed.\n",
    "\n",
    "The HR department implemented a new rewards system to increase employee morale, and after a few months it collected a random sample of 20 employees and the annualized absenteeism was 14.\n",
    "\n",
    "1. Could you confirm that the new rewards system was effective with a 90% confidence?\n",
    "2. An HR subject matter expert would be very happy if the program could reduce absenteeism by 20% (i.e. to 16 hours).  Given the current sampling parameters (sample size of 20 and std. dev. of population. 6), what is the probability that the new rewards system reduced absenteeism to 16 hours and you miss it?\n",
    "3. What should the sample size be if you want β to be 5%"
   ]
  },
  {
   "cell_type": "markdown",
   "metadata": {
    "colab_type": "text",
    "id": "LOjrz6ycqQ8A"
   },
   "source": [
    "**Question 3**\n",
    "\n",
    "Chi-Square Goodness of fit\n",
    "\n",
    "Please access and review **section 6.3.5** in the OpenIntro Statistics textbook:\n",
    "\n",
    "Diez, D., Çetinkaya-Rundel, M. & Barr, C (2019). OpenIntro Statistics (4th Ed.). https://leanpub.com/openintro-statistics\n",
    "\n",
    "Given the information in section 6.3.5, write python code for the following:\n",
    "\n",
    " - Calculate the expected values based on the geometric distribution with a probability of 53.2%\n",
    " - Compare the expected vs. the observed values from the textbook using the Chi-Square distribution\n",
    " - Reach a conclusion\n",
    " - Explain what is the business impact of your conclusion"
   ]
  },
  {
   "cell_type": "code",
   "execution_count": 1,
   "metadata": {},
   "outputs": [],
   "source": [
    "import numpy as np\n",
    "from scipy import stats\n",
    "import pandas as pd\n",
    "from scipy.stats import chisquare"
   ]
  },
  {
   "cell_type": "code",
   "execution_count": 2,
   "metadata": {},
   "outputs": [
    {
     "data": {
      "text/plain": [
       "0.3279956507031998"
      ]
     },
     "execution_count": 2,
     "metadata": {},
     "output_type": "execute_result"
    }
   ],
   "source": [
    "#P(r < 0)\n",
    "#1) What percentage of years does this portfolio lose money, (i.e. have a return less than 0%)?\n",
    "\n",
    "mean = 14.7\n",
    "std_dev = 33\n",
    "stats.norm(mean, std_dev).cdf(0)"
   ]
  },
  {
   "cell_type": "markdown",
   "metadata": {},
   "source": [
    "In about 32.8% of the years the portfolio will have a negative return"
   ]
  },
  {
   "cell_type": "code",
   "execution_count": 3,
   "metadata": {},
   "outputs": [
    {
     "data": {
      "text/plain": [
       "48.90230185329506"
      ]
     },
     "execution_count": 3,
     "metadata": {},
     "output_type": "execute_result"
    }
   ],
   "source": [
    "#2) What is the cutoff for the highest 15% of annual returns with this portfolio?\n",
    "stats.norm(mean, std_dev).ppf(0.85)"
   ]
  },
  {
   "cell_type": "markdown",
   "metadata": {},
   "source": [
    "In the highest 15% of years, the return is greater than 48.90%."
   ]
  },
  {
   "cell_type": "markdown",
   "metadata": {},
   "source": [
    "**Question 2**\n",
    "\n",
    "Past experience indicates that because of low morale, a company loses 20 hours a year per employee due to lateness and abstenteeism.  Assume that the standard deviation of the population is 6 and normally distributed.\n",
    "\n",
    "The HR department implemented a new rewards system to increase employee morale, and after a few months it collected a random sample of 20 employees and the annualized absenteeism was 14.\n",
    "\n",
    "1. Could you confirm that the new rewards system was effective with a 90% confidence?\n",
    "2. An HR subject matter expert would be very happy if the program could reduce absenteeism by 20% (i.e. to 16 hours).  Given the current sampling parameters (sample size of 20 and std. dev. of population. 6), what is the probability that the new rewards system reduced absenteeism to 16 hours and you miss it?\n",
    "3. What should the sample size be if you want β to be 5%"
   ]
  },
  {
   "cell_type": "code",
   "execution_count": 4,
   "metadata": {},
   "outputs": [],
   "source": [
    "# Given Data\n",
    "pop_mean = 20 # Absent for 20 hrs every year\n",
    "std_dev = 6 # Standard deviation\n",
    "sample_size = 20 # Number of employees taken in sample\n",
    "sample_mean = 14 # Mean of sample of being absent after new systems' implementation\n",
    "confidence_lvl =0.90 # 90% confidence\n",
    "alpha = 1 - confidence_lvl # Significance level (alpha) for test"
   ]
  },
  {
   "cell_type": "code",
   "execution_count": 5,
   "metadata": {},
   "outputs": [
    {
     "data": {
      "text/plain": [
       "(3.872108215522035e-06, True)"
      ]
     },
     "execution_count": 5,
     "metadata": {},
     "output_type": "execute_result"
    }
   ],
   "source": [
    "#1) Hypothesis Test (to check if the new rewards system is effective?)\n",
    "# H0: New Rewards System performs same as Older system\n",
    "# HA: New Rewards System performs effectively than Older system\n",
    "\n",
    "st_error = std_dev/np.sqrt(sample_size) #standard error of mean\n",
    "z_score = (sample_mean - pop_mean) / st_error #z-score for the sample mean\n",
    "# Find the p-value for the one-tailed test\n",
    "p_value = stats.norm.cdf(z_score)\n",
    "\n",
    "# Decision: if p-value < alpha, we reject the null hypothesis.\n",
    "test_result = p_value < alpha\n",
    "p_value , test_result"
   ]
  },
  {
   "cell_type": "markdown",
   "metadata": {},
   "source": [
    "p_value is less than the alpha (0.10). That's why we reject the null hypothesis and conclude that the new rewards system was effective at reducing absenteeism with 90% confidence."
   ]
  },
  {
   "cell_type": "code",
   "execution_count": 6,
   "metadata": {},
   "outputs": [
    {
     "data": {
      "text/plain": [
       "(21.719381850337403, 1.0086130550202022e-05)"
      ]
     },
     "execution_count": 6,
     "metadata": {},
     "output_type": "execute_result"
    }
   ],
   "source": [
    "# 2) Probability that the new rewards system reduced absenteeism to 16 hours but we miss it (Type II error)\n",
    "\n",
    "z_critical = stats.norm.ppf(1 - alpha)  # One-tailed test\n",
    "\n",
    "# X_critical value (Cutoff ) above which we fail to reject the null hypothesis\n",
    "x_critical = z_critical * st_error + pop_mean\n",
    "\n",
    "# Probability of Type II error given that true mean is 16 hrs\n",
    "z_score_beta = (x_critical - 16) / st_error  # Calculate z_score for alternate hypothesis\n",
    "beta = 1 - stats.norm.cdf(z_score_beta)  # Probability of Type II error\n",
    "x_critical , beta\n"
   ]
  },
  {
   "cell_type": "markdown",
   "metadata": {},
   "source": [
    "The probability of missing it is area right to beta which is 0.0001%. The chance of missing the reduction to 16 hours is extremely low."
   ]
  },
  {
   "cell_type": "code",
   "execution_count": 7,
   "metadata": {},
   "outputs": [
    {
     "data": {
      "text/plain": [
       "19.268656539002937"
      ]
     },
     "execution_count": 7,
     "metadata": {},
     "output_type": "execute_result"
    }
   ],
   "source": [
    "#3) What should the sample size be if you want β to be 5% \n",
    "\n",
    "# Solve : Zα * SE + Zβ * SE = Distance , Distance =  20 - 16 = 4 , SE = σ/√n, Zα and Zβ known\n",
    "\n",
    "z_alpha = stats.norm.ppf(1 - alpha) # for alpha =0.10 with 90% confidence\n",
    "z_beta = stats.norm.ppf(0.95) # for beta 5%\n",
    "\n",
    "# Calculate the required sample size\n",
    "req_samp_size = ((z_alpha+ z_beta) * std_dev/4) **2\n",
    "req_samp_size"
   ]
  },
  {
   "cell_type": "markdown",
   "metadata": {},
   "source": [
    "A sample size of 20 is sufficient for this level of power."
   ]
  },
  {
   "cell_type": "markdown",
   "metadata": {},
   "source": [
    "**Question 3**\n",
    "\n",
    "Chi-Square Goodness of fit\n",
    "\n",
    "Please access and review **section 6.3.5** in the OpenIntro Statistics textbook:\n",
    "\n",
    "Diez, D., Çetinkaya-Rundel, M. & Barr, C (2019). OpenIntro Statistics (4th Ed.). https://leanpub.com/openintro-statistics\n",
    "\n",
    "Given the information in section 6.3.5, write python code for the following:\n",
    "\n",
    " - Calculate the expected values based on the geometric distribution with a probability of 53.2%\n",
    " - Compare the expected vs. the observed values from the textbook using the Chi-Square distribution\n",
    " - Reach a conclusion\n",
    " - Explain what is the business impact of your conclusion"
   ]
  },
  {
   "cell_type": "code",
   "execution_count": 8,
   "metadata": {},
   "outputs": [
    {
     "name": "stdout",
     "output_type": "stream",
     "text": [
      "   Days  Observed    Expected\n",
      "0     1       717  728.164556\n",
      "1     2       369  340.781012\n",
      "2     3       155  159.485514\n",
      "3     4        69   74.639220\n",
      "4     5        28   34.931155\n",
      "5     6        14   16.347781\n",
      "6     7        10    7.650761\n"
     ]
    },
    {
     "data": {
      "text/plain": [
       "(5.493953654701899, 0.48218778890275704)"
      ]
     },
     "execution_count": 8,
     "metadata": {},
     "output_type": "execute_result"
    }
   ],
   "source": [
    "# Given probability of a positive trading day\n",
    "p = 0.532\n",
    "\n",
    "# Total number of observed streaks\n",
    "total_streaks =1362\n",
    "\n",
    "# Observed data from the problem statement\n",
    "observed_data = {'Days': [1, 2, 3, 4, 5, 6, 7],\n",
    "                 'Observed': [717, 369, 155, 69, 28, 14, 10]}\n",
    "df_observed = pd.DataFrame(observed_data)\n",
    "\n",
    "# Calculating expected values based on the geometric distribution where P(X=k)=(1-p)**(k-1)*p and ExpectedCount= P(X=k)*total_streaks\n",
    "expected_values = []\n",
    "for day in df_observed['Days'][:]: \n",
    "    expected_count = ((1- p) ** (day - 1))* p *total_streaks\n",
    "    expected_values.append(expected_count)\n",
    "\n",
    "# expected count for more than or equal to 7 days P(X>=7)\n",
    "#expected_7_above = ((1-p) ** (7-1))* p *total_streaks\n",
    "#expected_values.append(expected_7_above)\n",
    "\n",
    "\n",
    "# Adjust expected values to ensure their sum to the same total as observed values\n",
    "adj_factor = total_streaks / sum(expected_values)\n",
    "adj_expected_values = [v*adj_factor for v in expected_values]\n",
    "\n",
    "# add adjusted expected values to expected dataframe\n",
    "df_observed['Expected'] = adj_expected_values\n",
    "\n",
    "print( df_observed) \n",
    "\n",
    "# Chi square Goodness of Fit\n",
    "chi2_statistic, pval = chisquare(df_observed['Observed'], df_observed['Expected'])\n",
    "\n",
    "# Result\n",
    "chi2_statistic, pval"
   ]
  },
  {
   "cell_type": "markdown",
   "metadata": {},
   "source": [
    "Here, we can see that p-value is 0.482, which is well above significance level (such as 0.05), so we fail to reject the null hypothesis.\n",
    "This suggests that the observed data doesnt significantly deviate from expected values derived using Geometric distribution with p = 0.532.\n",
    "Therefore, there is no strong evidence suggesting that daily stock returns are dependent on previous day's returns.\n"
   ]
  },
  {
   "cell_type": "markdown",
   "metadata": {},
   "source": [
    "Business Impact:\n",
    "\n",
    "Based on these data, daily stock movements in the S&P500 appear to be independent of previous trading days. For traders, this supports the efficient market hypothesis, which states that it’s difficult to predict future returns based solely on past prices. As a result, traders may need to look beyond daily patterns and incorporate other factors or data points to develop predictive strategies."
   ]
  }
 ],
 "metadata": {
  "colab": {
   "collapsed_sections": [],
   "name": "Assignment 3v.3.ipynb",
   "provenance": [],
   "version": "0.3.2"
  },
  "kernelspec": {
   "display_name": "Python 3 (ipykernel)",
   "language": "python",
   "name": "python3"
  },
  "language_info": {
   "codemirror_mode": {
    "name": "ipython",
    "version": 3
   },
   "file_extension": ".py",
   "mimetype": "text/x-python",
   "name": "python",
   "nbconvert_exporter": "python",
   "pygments_lexer": "ipython3",
   "version": "3.9.13"
  }
 },
 "nbformat": 4,
 "nbformat_minor": 1
}
