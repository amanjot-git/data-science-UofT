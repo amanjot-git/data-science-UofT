{
 "cells": [
  {
   "cell_type": "markdown",
   "id": "d70cbeeb",
   "metadata": {},
   "source": [
    "# Analyzing Books and Authors\n",
    "\n",
    "You are a data scientist tasked with analyzing a large collection of books and authors. Your goal is to uncover insights about literary trends, author popularity, and book ratings. To achieve this, you need to determine the best data structure to store and manipulate your data efficiently.\n",
    "\n",
    "## Objectives\n",
    "\n",
    "- **Identify Popular Authors**: Determine which authors have the highest average ratings for their books.\n",
    "- **Analyze Trends**: Discover trends in book genres, publication years, and author nationalities.\n",
    "- **Calculate Metrics**: Compute various metrics such as the number of books per author, average rating per genre, and publication frequency over the years.\n",
    "\n",
    "## Data Requirements\n",
    "\n",
    "To accomplish these objectives, you need to store the following information for each book and author:\n",
    "\n",
    "### Book Information:\n",
    "\n",
    "- Title\n",
    "- Author(s)\n",
    "- Genre(s)\n",
    "- Publication Year\n",
    "- ISBN\n",
    "- Average Rating\n",
    "- Number of Ratings\n",
    "- Number of Pages\n",
    "\n",
    "### Author Information:\n",
    "\n",
    "- Name\n",
    "- Nationality\n",
    "- Birth Year\n",
    "- Death Year (if applicable)\n",
    "- Total Number of Books\n",
    "- Average Rating of Books\n"
   ]
  },
  {
   "cell_type": "code",
   "execution_count": 1,
   "id": "929d5bc4",
   "metadata": {},
   "outputs": [
    {
     "name": "stdout",
     "output_type": "stream",
     "text": [
      "Book 'A Game of Thrones' by George R.R. Martin\n"
     ]
    }
   ],
   "source": [
    "# One Book\n",
    "author = \"George R.R. Martin\"\n",
    "title = \"A Game of Thrones\"\n",
    "print(\"Book '{}' by {}\".format(title,author))"
   ]
  },
  {
   "cell_type": "code",
   "execution_count": 2,
   "id": "3084d431",
   "metadata": {},
   "outputs": [
    {
     "name": "stdout",
     "output_type": "stream",
     "text": [
      "Book 'A Game of Thrones' by  George R.R. Martin\n",
      "Book 'Harry Potter and the Sorcerer's Stone' by  J.K. Rowling\n",
      "Book 'To Kill a Mockingbird' by  Harper Lee\n",
      "Book 'The Adventures of Tom Sawyer' by  Mark Twain\n",
      "Book 'Pride and Prejudice' by  Jane Austen\n",
      "Book 'The Great Gatsby' by  F. Scott Fitzgerald\n"
     ]
    }
   ],
   "source": [
    "# Using just lists to print authors and titles of many books\n",
    "\n",
    "# Lists for authors and titles\n",
    "\n",
    "authors = [\"George R.R. Martin\", \"J.K. Rowling\", \"Harper Lee\", \"Mark Twain\", \"Jane Austen\", \"F. Scott Fitzgerald\"]\n",
    "titles = [\"A Game of Thrones\", \"Harry Potter and the Sorcerer's Stone\", \"To Kill a Mockingbird\", \n",
    "          \"The Adventures of Tom Sawyer\", \"Pride and Prejudice\", \"The Great Gatsby\"]\n",
    "\n",
    "for i in range(len(authors)):\n",
    "    print(f\"Book '{titles[i]}' by  {authors[i]}\")"
   ]
  },
  {
   "cell_type": "code",
   "execution_count": 3,
   "id": "8137ad0f",
   "metadata": {},
   "outputs": [
    {
     "name": "stdout",
     "output_type": "stream",
     "text": [
      "Book 'A Game of Thrones' by  George R.R. Martin\n",
      "Book 'Harry Potter and the Sorcerer's Stone' by  J.K. Rowling\n",
      "Book 'To Kill a Mockingbird' by  Harper Lee\n",
      "Book 'The Adventures of Tom Sawyer' by  Mark Twain\n",
      "Book 'Pride and Prejudice' by  Jane Austen\n",
      "Book 'The Great Gatsby' by  F. Scott Fitzgerald\n"
     ]
    }
   ],
   "source": [
    "book_dict ={\n",
    "'authors': [\"George R.R. Martin\", \"J.K. Rowling\", \"Harper Lee\", \"Mark Twain\", \"Jane Austen\", \"F. Scott Fitzgerald\"],\n",
    "'titles' : [\"A Game of Thrones\", \"Harry Potter and the Sorcerer's Stone\", \"To Kill a Mockingbird\", \n",
    "          \"The Adventures of Tom Sawyer\", \"Pride and Prejudice\", \"The Great Gatsby\"]\n",
    "}\n",
    "for i in range(len(book_dict['authors'])):\n",
    "    print(f\"Book '{book_dict['titles'][i]}' by  {book_dict['authors'][i]}\")"
   ]
  },
  {
   "cell_type": "code",
   "execution_count": 4,
   "id": "e6f69831",
   "metadata": {},
   "outputs": [
    {
     "name": "stdout",
     "output_type": "stream",
     "text": [
      "A Game of Thrones George R.R. Martin\n",
      "Harry Potter and the Sorcerer's Stone J.K. Rowling\n",
      "To Kill a Mockingbird Harper Lee\n",
      "The Adventures of Tom Sawyer Mark Twain\n",
      "Pride and Prejudice Jane Austen\n",
      "The Great Gatsby F. Scott Fitzgerald\n"
     ]
    }
   ],
   "source": [
    "book_dict={\n",
    "'authors' :[\"George R.R. Martin\", \"J.K. Rowling\", \"Harper Lee\", \"Mark Twain\", \"Jane Austen\", \"F. Scott Fitzgerald\"],\n",
    "'titles' : [\"A Game of Thrones\", \"Harry Potter and the Sorcerer's Stone\", \"To Kill a Mockingbird\", \n",
    "          \"The Adventures of Tom Sawyer\", \"Pride and Prejudice\", \"The Great Gatsby\"]\n",
    "}\n",
    "\n",
    "for i in range(len(authors)):\n",
    "    print(titles[i],authors[i])\n",
    "    "
   ]
  },
  {
   "cell_type": "code",
   "execution_count": 5,
   "id": "fdf78a04",
   "metadata": {},
   "outputs": [
    {
     "name": "stdout",
     "output_type": "stream",
     "text": [
      "{'authors': 'George R.R. Martin', 'titles': 'A Game of Thrones'}\n",
      "{'authors': 'J.K. Rowling', 'titles': \"Harry Potter and the Sorcerer's Stone\"}\n",
      "{'authors': 'Harper Lee', 'titles': 'To Kill a Mockingbird'}\n",
      "{'authors': 'Mark Twain', 'titles': 'The Adventures of Tom Sawyer'}\n",
      "{'authors': 'Jane Austen', 'titles': 'Pride and Prejudice'}\n",
      "{'authors': 'F. Scott Fitzgerald', 'titles': 'The Great Gatsby'}\n"
     ]
    }
   ],
   "source": [
    "book_list=[\n",
    "    {'authors': \"George R.R. Martin\", 'titles' : \"A Game of Thrones\" },\n",
    "    {'authors':   \"J.K. Rowling\", 'titles' : \"Harry Potter and the Sorcerer's Stone\"},\n",
    "    {'authors':   \"Harper Lee\", 'titles' : \"To Kill a Mockingbird\"},\n",
    "    {'authors':   \"Mark Twain\", 'titles' : \"The Adventures of Tom Sawyer\"},\n",
    "    {'authors': \"Jane Austen\", 'titles' : \"Pride and Prejudice\"},\n",
    "    {'authors': \"F. Scott Fitzgerald\", 'titles' : \"The Great Gatsby\"}\n",
    "]\n",
    "\n",
    "for key in range(len(book_list)):\n",
    "    print(book_list[key])"
   ]
  },
  {
   "cell_type": "code",
   "execution_count": 6,
   "id": "11502fd7",
   "metadata": {},
   "outputs": [
    {
     "name": "stdout",
     "output_type": "stream",
     "text": [
      "George R.R. Martin A Game of Thrones\n",
      "J.K. Rowling Harry Potter and the Sorcerer's Stone\n",
      "Harper Lee To Kill a Mockingbird\n",
      "Mark Twain The Adventures of Tom Sawyer\n",
      "Jane Austen Pride and Prejudice\n",
      "F. Scott Fitzgerald The Great Gatsby\n"
     ]
    }
   ],
   "source": [
    "book_list=[\n",
    "    {'authors': \"George R.R. Martin\", 'titles' : \"A Game of Thrones\" },\n",
    "    {'authors':   \"J.K. Rowling\", 'titles' : \"Harry Potter and the Sorcerer's Stone\"},\n",
    "    {'authors':   \"Harper Lee\", 'titles' : \"To Kill a Mockingbird\"},\n",
    "    {'authors':   \"Mark Twain\", 'titles' : \"The Adventures of Tom Sawyer\"},\n",
    "    {'authors': \"Jane Austen\", 'titles' : \"Pride and Prejudice\"},\n",
    "    {'authors': \"F. Scott Fitzgerald\", 'titles' : \"The Great Gatsby\"}\n",
    "]\n",
    "\n",
    "for key in book_list:\n",
    "    print(key['authors'],key['titles'])"
   ]
  },
  {
   "cell_type": "code",
   "execution_count": 7,
   "id": "2c4135c1",
   "metadata": {},
   "outputs": [
    {
     "name": "stdout",
     "output_type": "stream",
     "text": [
      "Book 'A Game of Thrones' by George R.R. Martin\n",
      "Book 'Harry Potter and the Sorcerer's Stone' by J.K. Rowling\n",
      "Book 'Harry Potter and the Chamber of Secrets' by J.K. Rowling\n",
      "Book 'To Kill a Mockingbird' by Harper Lee\n",
      "Book 'The Adventures of Tom Sawyer' by Mark Twain\n",
      "Book 'Pride and Prejudice' by Jane Austen\n",
      "Book 'The Great Gatsby' by F. Scott Fitzgerald\n"
     ]
    }
   ],
   "source": [
    "# Define the dictionary with lists as values\n",
    "book_dict = {\n",
    "    'authors': [\"George R.R. Martin\", \"J.K. Rowling\", \"J.K. Rowling\", \"Harper Lee\", \"Mark Twain\", \"Jane Austen\", \"F. Scott Fitzgerald\"],\n",
    "    'titles': [\"A Game of Thrones\", \"Harry Potter and the Sorcerer's Stone\", \"Harry Potter and the Chamber of Secrets\", \"To Kill a Mockingbird\", \"The Adventures of Tom Sawyer\", \"Pride and Prejudice\", \"The Great Gatsby\"]\n",
    "}\n",
    "\n",
    "# Correct loop to iterate over the indices of the lists\n",
    "for i in range(len(book_dict['authors'])):  # Ensure the loop runs over the length of the authors or titles list\n",
    "    print(\"Book '{}' by {}\".format(book_dict['titles'][i], book_dict['authors'][i]))\n"
   ]
  },
  {
   "cell_type": "code",
   "execution_count": 8,
   "id": "49f74e9c",
   "metadata": {},
   "outputs": [
    {
     "name": "stdout",
     "output_type": "stream",
     "text": [
      "Book 'A Game of Thrones' by George R.R. Martin\n",
      "Book 'Harry Potter and the Sorcerer's Stone' by J.K. Rowling\n",
      "Book 'Harry Potter and the Chamber of Secrets' by J.K. Rowling\n",
      "Book 'To Kill a Mockingbird' by Harper Lee\n",
      "Book 'The Adventures of Tom Sawyer' by Mark Twain\n",
      "Book 'Pride and Prejudice' by Jane Austen\n",
      "Book 'The Great Gatsby' by F. Scott Fitzgerald\n"
     ]
    }
   ],
   "source": [
    "# Define a list of dictionaries, where each dictionary contains an author and a title\n",
    "book_list = [\n",
    "    {'author': 'George R.R. Martin', 'title': 'A Game of Thrones'},\n",
    "    {'author': 'J.K. Rowling', 'title': \"Harry Potter and the Sorcerer's Stone\"},\n",
    "    {'author': 'J.K. Rowling', 'title': \"Harry Potter and the Chamber of Secrets\"},\n",
    "    {'author': 'Harper Lee', 'title': 'To Kill a Mockingbird'},\n",
    "    {'author': 'Mark Twain', 'title': 'The Adventures of Tom Sawyer'},\n",
    "    {'author': 'Jane Austen', 'title': 'Pride and Prejudice'},\n",
    "    {'author': 'F. Scott Fitzgerald', 'title': 'The Great Gatsby'}\n",
    "]\n",
    "\n",
    "# Loop through each book in the list and print the title and author\n",
    "for book in book_list:\n",
    "    print(\"Book '{}' by {}\".format(book['title'], book['author']))\n"
   ]
  },
  {
   "cell_type": "code",
   "execution_count": 9,
   "id": "d841bb9a",
   "metadata": {},
   "outputs": [
    {
     "name": "stdout",
     "output_type": "stream",
     "text": [
      "Book 'A Game of Thrones' by George R.R. Martin\n"
     ]
    }
   ],
   "source": [
    "# One Book instance\n",
    "\n",
    "class Book:\n",
    "    def __init__(self, author, title): # self is an object that will contain author and title\n",
    "        self.author = author\n",
    "        self.title = title\n",
    "        \n",
    "    def display(self):\n",
    "        print(f\"Book '{self.title}' by {self.author}\")\n",
    "\n",
    "#Instance of book is created\n",
    "book1 = Book(\"George R.R. Martin\", \"A Game of Thrones\")\n",
    "book1.display()"
   ]
  },
  {
   "cell_type": "code",
   "execution_count": 10,
   "id": "a73dc34d",
   "metadata": {},
   "outputs": [
    {
     "data": {
      "text/plain": [
       "'George R.R. Martin'"
      ]
     },
     "execution_count": 10,
     "metadata": {},
     "output_type": "execute_result"
    }
   ],
   "source": [
    "book1.author"
   ]
  },
  {
   "cell_type": "code",
   "execution_count": 11,
   "id": "994da8ab",
   "metadata": {},
   "outputs": [
    {
     "data": {
      "text/plain": [
       "'A Game of Thrones'"
      ]
     },
     "execution_count": 11,
     "metadata": {},
     "output_type": "execute_result"
    }
   ],
   "source": [
    "book1.title"
   ]
  },
  {
   "cell_type": "code",
   "execution_count": 12,
   "id": "df1224c8",
   "metadata": {},
   "outputs": [
    {
     "name": "stdout",
     "output_type": "stream",
     "text": [
      "Book 'A Game of Thrones' by George R.R. Martin\n"
     ]
    }
   ],
   "source": [
    "book1.display()"
   ]
  },
  {
   "cell_type": "code",
   "execution_count": 13,
   "id": "2746598b",
   "metadata": {},
   "outputs": [
    {
     "data": {
      "text/plain": [
       "2857842376272"
      ]
     },
     "execution_count": 13,
     "metadata": {},
     "output_type": "execute_result"
    }
   ],
   "source": [
    "id(book1)"
   ]
  },
  {
   "cell_type": "code",
   "execution_count": 14,
   "id": "64b9fe85",
   "metadata": {},
   "outputs": [
    {
     "name": "stdout",
     "output_type": "stream",
     "text": [
      "Book 'A Game of Thrones' by George R.R. Martin\n",
      "Book 'Harry Potter and the Sorcerer's Stone' by J.K. Rowling\n",
      "Book 'Harry Potter and the Chamber of Secrets' by J.K. Rowling\n",
      "Book 'To Kill a Mockingbird' by Harper Lee\n",
      "Book 'The Adventures of Tom Sawyer' by Mark Twain\n",
      "Book 'Pride and Prejudice' by Jane Austen\n",
      "Book 'The Great Gatsby' by F. Scott Fitzgerald\n"
     ]
    }
   ],
   "source": [
    "# Multiple Book instances\n",
    "\n",
    "class Book:\n",
    "    def __init__(self, author, title): # self is an object that will contain author and title\n",
    "        self.author = author\n",
    "        self.title = title\n",
    "        \n",
    "    def display(self):\n",
    "        print(f\"Book '{self.title}' by {self.author}\")\n",
    "\n",
    "# Create instances of Book\n",
    "book1 = Book(\"George R.R. Martin\", \"A Game of Thrones\")\n",
    "book2 = Book(\"J.K. Rowling\", \"Harry Potter and the Sorcerer's Stone\")\n",
    "book3 = Book(\"J.K. Rowling\", \"Harry Potter and the Chamber of Secrets\")\n",
    "book4 = Book(\"Harper Lee\", \"To Kill a Mockingbird\")\n",
    "book5 = Book(\"Mark Twain\", \"The Adventures of Tom Sawyer\")\n",
    "book6 = Book(\"Jane Austen\", \"Pride and Prejudice\")\n",
    "book7 = Book(\"F. Scott Fitzgerald\", \"The Great Gatsby\")\n",
    "\n",
    "\n",
    "#creating list of objects\n",
    "books = [book1, book2, book3, book4, book5,book6, book7]\n",
    "for book in books:\n",
    "    book.display()"
   ]
  },
  {
   "cell_type": "code",
   "execution_count": 15,
   "id": "45b215fe",
   "metadata": {},
   "outputs": [
    {
     "data": {
      "text/plain": [
       "2857842528368"
      ]
     },
     "execution_count": 15,
     "metadata": {},
     "output_type": "execute_result"
    }
   ],
   "source": [
    "id(book1)"
   ]
  },
  {
   "cell_type": "code",
   "execution_count": 16,
   "id": "98f0ea0c",
   "metadata": {},
   "outputs": [
    {
     "data": {
      "text/plain": [
       "2857842516656"
      ]
     },
     "execution_count": 16,
     "metadata": {},
     "output_type": "execute_result"
    }
   ],
   "source": [
    "id(book2)"
   ]
  },
  {
   "cell_type": "code",
   "execution_count": 17,
   "id": "b5207ca8",
   "metadata": {},
   "outputs": [
    {
     "name": "stdout",
     "output_type": "stream",
     "text": [
      "                author                                    title\n",
      "0   George R.R. Martin                        A Game of Thrones\n",
      "1         J.K. Rowling    Harry Potter and the Sorcerer's Stone\n",
      "2         J.K. Rowling  Harry Potter and the Chamber of Secrets\n",
      "3           Harper Lee                    To Kill a Mockingbird\n",
      "4           Mark Twain             The Adventures of Tom Sawyer\n",
      "5          Jane Austen                      Pride and Prejudice\n",
      "6  F. Scott Fitzgerald                         The Great Gatsby\n",
      "Book 'A Game of Thrones' by George R.R. Martin\n",
      "Book 'Harry Potter and the Sorcerer's Stone' by J.K. Rowling\n",
      "Book 'Harry Potter and the Chamber of Secrets' by J.K. Rowling\n",
      "Book 'To Kill a Mockingbird' by Harper Lee\n",
      "Book 'The Adventures of Tom Sawyer' by Mark Twain\n",
      "Book 'Pride and Prejudice' by Jane Austen\n",
      "Book 'The Great Gatsby' by F. Scott Fitzgerald\n"
     ]
    }
   ],
   "source": [
    "# Using dataframe\n",
    "import pandas as pd\n",
    "\n",
    "# Define a list of dictionaries, where each dictionary contains an author and a title\n",
    "book_list = [\n",
    "    {'author': 'George R.R. Martin', 'title': 'A Game of Thrones'},\n",
    "    {'author': 'J.K. Rowling', 'title': \"Harry Potter and the Sorcerer's Stone\"},\n",
    "    {'author': 'J.K. Rowling', 'title': \"Harry Potter and the Chamber of Secrets\"},\n",
    "    {'author': 'Harper Lee', 'title': 'To Kill a Mockingbird'},\n",
    "    {'author': 'Mark Twain', 'title': 'The Adventures of Tom Sawyer'},\n",
    "    {'author': 'Jane Austen', 'title': 'Pride and Prejudice'},\n",
    "    {'author': 'F. Scott Fitzgerald', 'title': 'The Great Gatsby'}\n",
    "]\n",
    "\n",
    "# Create a DataFrame from the list of dictionaries\n",
    "books_df = pd.DataFrame(book_list)\n",
    "\n",
    "# Print the DataFrame\n",
    "print(books_df)\n",
    "\n",
    "# Loop through each book in the DataFrame and print the title and author\n",
    "for index, book in books_df.iterrows():\n",
    "    print(\"Book '{}' by {}\".format(book['title'], book['author']))\n"
   ]
  },
  {
   "cell_type": "code",
   "execution_count": 18,
   "id": "506f0f79",
   "metadata": {},
   "outputs": [
    {
     "name": "stdout",
     "output_type": "stream",
     "text": [
      "               authors                                   titles\n",
      "0   George R.R. Martin                        A Game of Thrones\n",
      "1         J.K. Rowling    Harry Potter and the Sorcerer's Stone\n",
      "2         J.K. Rowling  Harry Potter and the Chamber of Secrets\n",
      "3           Harper Lee                    To Kill a Mockingbird\n",
      "4           Mark Twain             The Adventures of Tom Sawyer\n",
      "5          Jane Austen                      Pride and Prejudice\n",
      "6  F. Scott Fitzgerald                         The Great Gatsby\n",
      "Book 'A Game of Thrones' by George R.R. Martin\n",
      "Book 'Harry Potter and the Sorcerer's Stone' by J.K. Rowling\n",
      "Book 'Harry Potter and the Chamber of Secrets' by J.K. Rowling\n",
      "Book 'To Kill a Mockingbird' by Harper Lee\n",
      "Book 'The Adventures of Tom Sawyer' by Mark Twain\n",
      "Book 'Pride and Prejudice' by Jane Austen\n",
      "Book 'The Great Gatsby' by F. Scott Fitzgerald\n"
     ]
    }
   ],
   "source": [
    "import pandas as pd\n",
    "\n",
    "# Define the dictionary with lists as values\n",
    "book_dict = {\n",
    "    'authors': [\"George R.R. Martin\", \"J.K. Rowling\", \"J.K. Rowling\", \"Harper Lee\", \"Mark Twain\", \"Jane Austen\", \"F. Scott Fitzgerald\"],\n",
    "    'titles': [\"A Game of Thrones\", \"Harry Potter and the Sorcerer's Stone\", \"Harry Potter and the Chamber of Secrets\", \"To Kill a Mockingbird\", \"The Adventures of Tom Sawyer\", \"Pride and Prejudice\", \"The Great Gatsby\"]\n",
    "}\n",
    "\n",
    "# Create a DataFrame from the dictionary\n",
    "books_df = pd.DataFrame(book_dict)\n",
    "\n",
    "# Print the DataFrame\n",
    "print(books_df)\n",
    "\n",
    "# Loop through each book in the dictionary and print the title and author\n",
    "for i in range(len(book_dict['authors'])):  # Ensure the loop runs over the length of the authors or titles list\n",
    "    print(\"Book '{}' by {}\".format(book_dict['titles'][i], book_dict['authors'][i]))\n"
   ]
  },
  {
   "cell_type": "markdown",
   "id": "5a0dcbfd",
   "metadata": {},
   "source": [
    "Other way could be creating dataframes for both books and authors as:\n",
    "import pandas as pd\n",
    "### Example DataFrame for books\n",
    "books_df = pd.DataFrame({\n",
    "    'Title': [],\n",
    "    'Author': [],\n",
    "    'Genre': [],\n",
    "    'Publication_Year': [],\n",
    "    'ISBN': [],\n",
    "    'Average_Rating': [],\n",
    "    'Number_of_Ratings': [],\n",
    "    'Number_of_Pages': []\n",
    "})\n",
    "\n",
    "### Example DataFrame for authors\n",
    "authors_df = pd.DataFrame({\n",
    "    'Name': [],\n",
    "    'Nationality': [],\n",
    "    'Birth_Year': [],\n",
    "    'Death_Year': [],\n",
    "    'Total_Number_of_Books': [],\n",
    "    'Average_Rating': []\n",
    "})\n"
   ]
  },
  {
   "cell_type": "markdown",
   "id": "f4469089",
   "metadata": {},
   "source": [
    "### For larger datasets, we can think of storing in SQL Database as:\n",
    "    \n",
    "CREATE TABLE books (\n",
    "    book_id INTEGER PRIMARY KEY,\n",
    "    title TEXT,\n",
    "    author TEXT,\n",
    "    genre TEXT,\n",
    "    publication_year INTEGER,\n",
    "    isbn TEXT,\n",
    "    average_rating REAL,\n",
    "    number_of_ratings INTEGER,\n",
    "    number_of_pages INTEGER\n",
    ");\n",
    "\n",
    "CREATE TABLE authors (\n",
    "    author_id INTEGER PRIMARY KEY,\n",
    "    name TEXT,\n",
    "    nationality TEXT,\n",
    "    birth_year INTEGER,\n",
    "    death_year INTEGER,\n",
    "    total_number_of_books INTEGER,\n",
    "    average_rating REAL\n",
    ");\n"
   ]
  },
  {
   "cell_type": "markdown",
   "id": "ae2813b5",
   "metadata": {},
   "source": [
    "### Popular one is data in csv and loading into dataframe"
   ]
  }
 ],
 "metadata": {
  "kernelspec": {
   "display_name": "Python 3 (ipykernel)",
   "language": "python",
   "name": "python3"
  },
  "language_info": {
   "codemirror_mode": {
    "name": "ipython",
    "version": 3
   },
   "file_extension": ".py",
   "mimetype": "text/x-python",
   "name": "python",
   "nbconvert_exporter": "python",
   "pygments_lexer": "ipython3",
   "version": "3.9.13"
  }
 },
 "nbformat": 4,
 "nbformat_minor": 5
}
