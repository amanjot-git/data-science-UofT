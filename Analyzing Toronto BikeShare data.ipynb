{
 "cells": [
  {
   "cell_type": "markdown",
   "id": "e7e3ae93",
   "metadata": {},
   "source": [
    "# Scenario: Analyzing Toronto Bikeshare Data\n",
    "\n",
    "## Objective\n",
    "To understand the usage patterns of the Toronto Bikeshare system and identify the most popular days for biking based on trip duration and the number of bike rides.\n",
    "\n",
    "## Data Loading\n",
    "The data is loaded from the Excel file `2016_Bike_Share_Toronto_Ridership_Q4.xlsx` into a DataFrame called `TObike`.\n",
    "\n",
    "## Initial Analysis\n",
    "1. **Display the first few rows of the DataFrame** to understand its structure.\n",
    "2. **Display information about the DataFrame**, such as data types and missing values.\n",
    "\n",
    "## Specific Analysis\n",
    "1. **Determine the day of the week with the longest total trip duration**.\n",
    "2. **Determine the day of the week with the highest number of bike rides**.\n",
    "\n",
    "## Further Steps\n",
    "1. **Perform data cleaning and preprocessing** if necessary (e.g., handling missing values, converting data types).\n",
    "2. **Visualize the findings** using appropriate plots (e.g., bar charts, line graphs)."
   ]
  },
  {
   "cell_type": "markdown",
   "id": "5ad0e497",
   "metadata": {},
   "source": [
    "### What day of the week do Torontonians bike the most? Maximum duration trip by adding all on days individually"
   ]
  },
  {
   "cell_type": "code",
   "execution_count": 1,
   "id": "962a3322",
   "metadata": {},
   "outputs": [
    {
     "data": {
      "text/html": [
       "<div>\n",
       "<style scoped>\n",
       "    .dataframe tbody tr th:only-of-type {\n",
       "        vertical-align: middle;\n",
       "    }\n",
       "\n",
       "    .dataframe tbody tr th {\n",
       "        vertical-align: top;\n",
       "    }\n",
       "\n",
       "    .dataframe thead th {\n",
       "        text-align: right;\n",
       "    }\n",
       "</style>\n",
       "<table border=\"1\" class=\"dataframe\">\n",
       "  <thead>\n",
       "    <tr style=\"text-align: right;\">\n",
       "      <th></th>\n",
       "      <th>trip_id</th>\n",
       "      <th>trip_start_time</th>\n",
       "      <th>trip_stop_time</th>\n",
       "      <th>trip_duration_seconds</th>\n",
       "      <th>from_station_name</th>\n",
       "      <th>to_station_name</th>\n",
       "      <th>user_type</th>\n",
       "    </tr>\n",
       "  </thead>\n",
       "  <tbody>\n",
       "    <tr>\n",
       "      <th>0</th>\n",
       "      <td>462305</td>\n",
       "      <td>2016-01-10 00:00:00</td>\n",
       "      <td>2016-01-10 00:07:00</td>\n",
       "      <td>394</td>\n",
       "      <td>Queens Quay W / Dan Leckie Way</td>\n",
       "      <td>Fort York Blvd / Garrison Rd</td>\n",
       "      <td>Casual</td>\n",
       "    </tr>\n",
       "    <tr>\n",
       "      <th>1</th>\n",
       "      <td>462306</td>\n",
       "      <td>2016-01-10 00:00:00</td>\n",
       "      <td>2016-01-10 00:09:00</td>\n",
       "      <td>533</td>\n",
       "      <td>Sherbourne St / Wellesley St</td>\n",
       "      <td>Edward St / Yonge St</td>\n",
       "      <td>Member</td>\n",
       "    </tr>\n",
       "    <tr>\n",
       "      <th>2</th>\n",
       "      <td>462307</td>\n",
       "      <td>2016-01-10 00:00:00</td>\n",
       "      <td>2016-01-10 00:07:00</td>\n",
       "      <td>383</td>\n",
       "      <td>Queens Quay W / Dan Leckie Way</td>\n",
       "      <td>Fort York Blvd / Garrison Rd</td>\n",
       "      <td>Casual</td>\n",
       "    </tr>\n",
       "    <tr>\n",
       "      <th>3</th>\n",
       "      <td>462308</td>\n",
       "      <td>2016-01-10 00:01:00</td>\n",
       "      <td>2016-01-10 00:27:00</td>\n",
       "      <td>1557</td>\n",
       "      <td>Cherry St / Distillery Ln</td>\n",
       "      <td>Fort York  Blvd / Capreol Crt</td>\n",
       "      <td>Casual</td>\n",
       "    </tr>\n",
       "    <tr>\n",
       "      <th>4</th>\n",
       "      <td>462309</td>\n",
       "      <td>2016-01-10 00:01:00</td>\n",
       "      <td>2016-01-10 00:27:00</td>\n",
       "      <td>1547</td>\n",
       "      <td>Cherry St / Distillery Ln</td>\n",
       "      <td>Fort York  Blvd / Capreol Crt</td>\n",
       "      <td>Casual</td>\n",
       "    </tr>\n",
       "  </tbody>\n",
       "</table>\n",
       "</div>"
      ],
      "text/plain": [
       "   trip_id      trip_start_time       trip_stop_time  trip_duration_seconds  \\\n",
       "0   462305  2016-01-10 00:00:00  2016-01-10 00:07:00                    394   \n",
       "1   462306  2016-01-10 00:00:00  2016-01-10 00:09:00                    533   \n",
       "2   462307  2016-01-10 00:00:00  2016-01-10 00:07:00                    383   \n",
       "3   462308  2016-01-10 00:01:00  2016-01-10 00:27:00                   1557   \n",
       "4   462309  2016-01-10 00:01:00  2016-01-10 00:27:00                   1547   \n",
       "\n",
       "                from_station_name                to_station_name user_type  \n",
       "0  Queens Quay W / Dan Leckie Way   Fort York Blvd / Garrison Rd    Casual  \n",
       "1    Sherbourne St / Wellesley St           Edward St / Yonge St    Member  \n",
       "2  Queens Quay W / Dan Leckie Way   Fort York Blvd / Garrison Rd    Casual  \n",
       "3       Cherry St / Distillery Ln  Fort York  Blvd / Capreol Crt    Casual  \n",
       "4       Cherry St / Distillery Ln  Fort York  Blvd / Capreol Crt    Casual  "
      ]
     },
     "execution_count": 1,
     "metadata": {},
     "output_type": "execute_result"
    }
   ],
   "source": [
    "import numpy as np\n",
    "import pandas as pd\n",
    "TObike = pd.read_excel('2016_Bike_Share_Toronto_Ridership_Q4.xlsx')\n",
    "TObike.head(5)"
   ]
  },
  {
   "cell_type": "code",
   "execution_count": 2,
   "id": "f8b0bd63",
   "metadata": {},
   "outputs": [
    {
     "name": "stdout",
     "output_type": "stream",
     "text": [
      "<class 'pandas.core.frame.DataFrame'>\n",
      "RangeIndex: 217569 entries, 0 to 217568\n",
      "Data columns (total 7 columns):\n",
      " #   Column                 Non-Null Count   Dtype \n",
      "---  ------                 --------------   ----- \n",
      " 0   trip_id                217569 non-null  int64 \n",
      " 1   trip_start_time        217569 non-null  object\n",
      " 2   trip_stop_time         217569 non-null  object\n",
      " 3   trip_duration_seconds  217569 non-null  int64 \n",
      " 4   from_station_name      217567 non-null  object\n",
      " 5   to_station_name        217567 non-null  object\n",
      " 6   user_type              217569 non-null  object\n",
      "dtypes: int64(2), object(5)\n",
      "memory usage: 11.6+ MB\n"
     ]
    }
   ],
   "source": [
    "TObike.info()"
   ]
  },
  {
   "cell_type": "code",
   "execution_count": 3,
   "id": "bd2ac223",
   "metadata": {},
   "outputs": [],
   "source": [
    "#trip_start_time is a datetime64[ns] data type \n",
    "#which is a special data type that Python and pandas use to store date and time data. \n",
    "\n",
    "# But it is object as we can see above. so we have to convert string to datetime using .to_datetime()"
   ]
  },
  {
   "cell_type": "code",
   "execution_count": 4,
   "id": "33124608",
   "metadata": {},
   "outputs": [],
   "source": [
    "TObike['trip_start_time']= pd.to_datetime(TObike['trip_start_time'])"
   ]
  },
  {
   "cell_type": "code",
   "execution_count": 5,
   "id": "03ccf36e",
   "metadata": {},
   "outputs": [
    {
     "name": "stdout",
     "output_type": "stream",
     "text": [
      "<class 'pandas.core.frame.DataFrame'>\n",
      "RangeIndex: 217569 entries, 0 to 217568\n",
      "Data columns (total 7 columns):\n",
      " #   Column                 Non-Null Count   Dtype         \n",
      "---  ------                 --------------   -----         \n",
      " 0   trip_id                217569 non-null  int64         \n",
      " 1   trip_start_time        217569 non-null  datetime64[ns]\n",
      " 2   trip_stop_time         217569 non-null  object        \n",
      " 3   trip_duration_seconds  217569 non-null  int64         \n",
      " 4   from_station_name      217567 non-null  object        \n",
      " 5   to_station_name        217567 non-null  object        \n",
      " 6   user_type              217569 non-null  object        \n",
      "dtypes: datetime64[ns](1), int64(2), object(4)\n",
      "memory usage: 11.6+ MB\n"
     ]
    }
   ],
   "source": [
    "TObike.info()"
   ]
  },
  {
   "cell_type": "code",
   "execution_count": 6,
   "id": "4b646670",
   "metadata": {},
   "outputs": [
    {
     "data": {
      "text/html": [
       "<div>\n",
       "<style scoped>\n",
       "    .dataframe tbody tr th:only-of-type {\n",
       "        vertical-align: middle;\n",
       "    }\n",
       "\n",
       "    .dataframe tbody tr th {\n",
       "        vertical-align: top;\n",
       "    }\n",
       "\n",
       "    .dataframe thead th {\n",
       "        text-align: right;\n",
       "    }\n",
       "</style>\n",
       "<table border=\"1\" class=\"dataframe\">\n",
       "  <thead>\n",
       "    <tr style=\"text-align: right;\">\n",
       "      <th></th>\n",
       "      <th>trip_id</th>\n",
       "      <th>trip_start_time</th>\n",
       "      <th>trip_stop_time</th>\n",
       "      <th>trip_duration_seconds</th>\n",
       "      <th>from_station_name</th>\n",
       "      <th>to_station_name</th>\n",
       "      <th>user_type</th>\n",
       "      <th>weekday</th>\n",
       "    </tr>\n",
       "  </thead>\n",
       "  <tbody>\n",
       "    <tr>\n",
       "      <th>0</th>\n",
       "      <td>462305</td>\n",
       "      <td>2016-01-10 00:00:00</td>\n",
       "      <td>2016-01-10 00:07:00</td>\n",
       "      <td>394</td>\n",
       "      <td>Queens Quay W / Dan Leckie Way</td>\n",
       "      <td>Fort York Blvd / Garrison Rd</td>\n",
       "      <td>Casual</td>\n",
       "      <td>Sunday</td>\n",
       "    </tr>\n",
       "    <tr>\n",
       "      <th>1</th>\n",
       "      <td>462306</td>\n",
       "      <td>2016-01-10 00:00:00</td>\n",
       "      <td>2016-01-10 00:09:00</td>\n",
       "      <td>533</td>\n",
       "      <td>Sherbourne St / Wellesley St</td>\n",
       "      <td>Edward St / Yonge St</td>\n",
       "      <td>Member</td>\n",
       "      <td>Sunday</td>\n",
       "    </tr>\n",
       "    <tr>\n",
       "      <th>2</th>\n",
       "      <td>462307</td>\n",
       "      <td>2016-01-10 00:00:00</td>\n",
       "      <td>2016-01-10 00:07:00</td>\n",
       "      <td>383</td>\n",
       "      <td>Queens Quay W / Dan Leckie Way</td>\n",
       "      <td>Fort York Blvd / Garrison Rd</td>\n",
       "      <td>Casual</td>\n",
       "      <td>Sunday</td>\n",
       "    </tr>\n",
       "    <tr>\n",
       "      <th>3</th>\n",
       "      <td>462308</td>\n",
       "      <td>2016-01-10 00:01:00</td>\n",
       "      <td>2016-01-10 00:27:00</td>\n",
       "      <td>1557</td>\n",
       "      <td>Cherry St / Distillery Ln</td>\n",
       "      <td>Fort York  Blvd / Capreol Crt</td>\n",
       "      <td>Casual</td>\n",
       "      <td>Sunday</td>\n",
       "    </tr>\n",
       "    <tr>\n",
       "      <th>4</th>\n",
       "      <td>462309</td>\n",
       "      <td>2016-01-10 00:01:00</td>\n",
       "      <td>2016-01-10 00:27:00</td>\n",
       "      <td>1547</td>\n",
       "      <td>Cherry St / Distillery Ln</td>\n",
       "      <td>Fort York  Blvd / Capreol Crt</td>\n",
       "      <td>Casual</td>\n",
       "      <td>Sunday</td>\n",
       "    </tr>\n",
       "  </tbody>\n",
       "</table>\n",
       "</div>"
      ],
      "text/plain": [
       "   trip_id     trip_start_time       trip_stop_time  trip_duration_seconds  \\\n",
       "0   462305 2016-01-10 00:00:00  2016-01-10 00:07:00                    394   \n",
       "1   462306 2016-01-10 00:00:00  2016-01-10 00:09:00                    533   \n",
       "2   462307 2016-01-10 00:00:00  2016-01-10 00:07:00                    383   \n",
       "3   462308 2016-01-10 00:01:00  2016-01-10 00:27:00                   1557   \n",
       "4   462309 2016-01-10 00:01:00  2016-01-10 00:27:00                   1547   \n",
       "\n",
       "                from_station_name                to_station_name user_type  \\\n",
       "0  Queens Quay W / Dan Leckie Way   Fort York Blvd / Garrison Rd    Casual   \n",
       "1    Sherbourne St / Wellesley St           Edward St / Yonge St    Member   \n",
       "2  Queens Quay W / Dan Leckie Way   Fort York Blvd / Garrison Rd    Casual   \n",
       "3       Cherry St / Distillery Ln  Fort York  Blvd / Capreol Crt    Casual   \n",
       "4       Cherry St / Distillery Ln  Fort York  Blvd / Capreol Crt    Casual   \n",
       "\n",
       "  weekday  \n",
       "0  Sunday  \n",
       "1  Sunday  \n",
       "2  Sunday  \n",
       "3  Sunday  \n",
       "4  Sunday  "
      ]
     },
     "execution_count": 6,
     "metadata": {},
     "output_type": "execute_result"
    }
   ],
   "source": [
    "# we dont need to do the same for stop time as we have duration of trip already\n",
    "\n",
    "# We need only the day of the week to answer the question of what day of the week is the busiest for Bikeshare Toronto. \n",
    "#When the data is formatted as a DateTime object, we can use either the dayofweek()->numeric value of the day of the week or \n",
    "# weekday_name() for the full day of week name.\n",
    "\n",
    "TObike['weekday']= TObike['trip_start_time'].dt.day_name()\n",
    "TObike.head(5)"
   ]
  },
  {
   "cell_type": "markdown",
   "id": "a1628af7",
   "metadata": {},
   "source": [
    "### What is the day of the week with the longest duration of all trips during that day?\":"
   ]
  },
  {
   "cell_type": "code",
   "execution_count": 7,
   "id": "39f523f8",
   "metadata": {},
   "outputs": [
    {
     "data": {
      "text/plain": [
       "weekday\n",
       "Sunday       25490178\n",
       "Friday       24531608\n",
       "Monday       24355459\n",
       "Wednesday    24092014\n",
       "Tuesday      23752117\n",
       "Thursday     22613646\n",
       "Saturday     21499246\n",
       "Name: trip_duration_seconds, dtype: int64"
      ]
     },
     "execution_count": 7,
     "metadata": {},
     "output_type": "execute_result"
    }
   ],
   "source": [
    "TObike['trip_duration_seconds'].groupby(TObike['weekday']).aggregate(sum).sort_values(ascending = False)"
   ]
  },
  {
   "cell_type": "markdown",
   "id": "d8c0420a",
   "metadata": {},
   "source": [
    "### What is the day of the week with the most bike rides?\""
   ]
  },
  {
   "cell_type": "code",
   "execution_count": 8,
   "id": "35ee3340",
   "metadata": {},
   "outputs": [
    {
     "data": {
      "text/plain": [
       "Friday       34101\n",
       "Tuesday      33763\n",
       "Monday       32913\n",
       "Thursday     32069\n",
       "Sunday       30750\n",
       "Wednesday    29759\n",
       "Saturday     24214\n",
       "Name: weekday, dtype: int64"
      ]
     },
     "execution_count": 8,
     "metadata": {},
     "output_type": "execute_result"
    }
   ],
   "source": [
    "TObike['weekday'].value_counts()"
   ]
  }
 ],
 "metadata": {
  "kernelspec": {
   "display_name": "Python 3 (ipykernel)",
   "language": "python",
   "name": "python3"
  },
  "language_info": {
   "codemirror_mode": {
    "name": "ipython",
    "version": 3
   },
   "file_extension": ".py",
   "mimetype": "text/x-python",
   "name": "python",
   "nbconvert_exporter": "python",
   "pygments_lexer": "ipython3",
   "version": "3.9.13"
  }
 },
 "nbformat": 4,
 "nbformat_minor": 5
}
